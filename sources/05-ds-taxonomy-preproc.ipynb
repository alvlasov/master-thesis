{
 "cells": [
  {
   "cell_type": "code",
   "execution_count": 10,
   "metadata": {},
   "outputs": [],
   "source": [
    "from lib import *"
   ]
  },
  {
   "cell_type": "markdown",
   "metadata": {},
   "source": [
    "---\n"
   ]
  },
  {
   "cell_type": "code",
   "execution_count": 14,
   "metadata": {
    "scrolled": true
   },
   "outputs": [],
   "source": [
    "tax_raw = (\n",
    "    pd.read_excel('acm_css_taxonomy_modified.xlsx', header=None)\n",
    "     .rename(columns={0:'level'}).iloc[3:459]\n",
    ")"
   ]
  },
  {
   "cell_type": "code",
   "execution_count": 15,
   "metadata": {},
   "outputs": [
    {
     "data": {
      "text/plain": [
       "(456, 11)"
      ]
     },
     "execution_count": 15,
     "metadata": {},
     "output_type": "execute_result"
    }
   ],
   "source": [
    "tax_raw.shape"
   ]
  },
  {
   "cell_type": "markdown",
   "metadata": {},
   "source": [
    "---"
   ]
  },
  {
   "cell_type": "code",
   "execution_count": 16,
   "metadata": {},
   "outputs": [],
   "source": [
    "topics = set(tax_raw.iloc[:, 1:7].fillna('').sum(axis=1).str.strip().str.lower())"
   ]
  },
  {
   "cell_type": "code",
   "execution_count": 17,
   "metadata": {
    "scrolled": true
   },
   "outputs": [
    {
     "data": {
      "text/plain": [
       "437"
      ]
     },
     "execution_count": 17,
     "metadata": {},
     "output_type": "execute_result"
    }
   ],
   "source": [
    "len(topics)"
   ]
  },
  {
   "cell_type": "markdown",
   "metadata": {},
   "source": [
    "---"
   ]
  },
  {
   "cell_type": "code",
   "execution_count": 18,
   "metadata": {},
   "outputs": [],
   "source": [
    "ds_tax = (\n",
    "    tax_raw\n",
    "    .fillna('')\n",
    "    .assign(\n",
    "        label=lambda x: x.iloc[:, 1:7].sum(axis=1).str.strip(),\n",
    "        new=lambda x: x['level'].str.contains('\\*'),\n",
    "        level=lambda x: x['level'].str.replace(r'*', ''),\n",
    "    )\n",
    "    .assign(\n",
    "        lvls=lambda x: x['level'].str.split('.')\\\n",
    "                                  .apply(lambda x: [y for y in x if y.isdecimal()]))\n",
    "    .assign(\n",
    "        depth=lambda x: x['lvls'].apply(len)\n",
    "    )\n",
    "    .loc[lambda x: x['label'] != '', ['level', 'label', 'depth', 'lvls', 'new']]\n",
    ")"
   ]
  },
  {
   "cell_type": "code",
   "execution_count": 19,
   "metadata": {},
   "outputs": [
    {
     "data": {
      "text/html": [
       "<div>\n",
       "<style scoped>\n",
       "    .dataframe tbody tr th:only-of-type {\n",
       "        vertical-align: middle;\n",
       "    }\n",
       "\n",
       "    .dataframe tbody tr th {\n",
       "        vertical-align: top;\n",
       "    }\n",
       "\n",
       "    .dataframe thead th {\n",
       "        text-align: right;\n",
       "    }\n",
       "</style>\n",
       "<table border=\"1\" class=\"dataframe\">\n",
       "  <thead>\n",
       "    <tr style=\"text-align: right;\">\n",
       "      <th></th>\n",
       "      <th>level</th>\n",
       "      <th>label</th>\n",
       "      <th>depth</th>\n",
       "      <th>lvls</th>\n",
       "      <th>new</th>\n",
       "    </tr>\n",
       "  </thead>\n",
       "  <tbody>\n",
       "    <tr>\n",
       "      <th>3</th>\n",
       "      <td>1. + 0</td>\n",
       "      <td>Theory of computation</td>\n",
       "      <td>1</td>\n",
       "      <td>[1]</td>\n",
       "      <td>False</td>\n",
       "    </tr>\n",
       "    <tr>\n",
       "      <th>4</th>\n",
       "      <td>1.1.</td>\n",
       "      <td>Theory and algorithms for application domains</td>\n",
       "      <td>2</td>\n",
       "      <td>[1, 1]</td>\n",
       "      <td>False</td>\n",
       "    </tr>\n",
       "    <tr>\n",
       "      <th>5</th>\n",
       "      <td>1.1.1.</td>\n",
       "      <td>Machine learning theory</td>\n",
       "      <td>3</td>\n",
       "      <td>[1, 1, 1]</td>\n",
       "      <td>False</td>\n",
       "    </tr>\n",
       "    <tr>\n",
       "      <th>6</th>\n",
       "      <td>1.1.1.1.</td>\n",
       "      <td>Sample complexity and generalization bounds</td>\n",
       "      <td>4</td>\n",
       "      <td>[1, 1, 1, 1]</td>\n",
       "      <td>False</td>\n",
       "    </tr>\n",
       "    <tr>\n",
       "      <th>7</th>\n",
       "      <td>1.1.1.2.</td>\n",
       "      <td>Boolean function learning</td>\n",
       "      <td>4</td>\n",
       "      <td>[1, 1, 1, 2]</td>\n",
       "      <td>False</td>\n",
       "    </tr>\n",
       "  </tbody>\n",
       "</table>\n",
       "</div>"
      ],
      "text/plain": [
       "      level                                          label  depth  \\\n",
       "3  1. + 0    Theory of computation                          1       \n",
       "4  1.1.      Theory and algorithms for application domains  2       \n",
       "5  1.1.1.    Machine learning theory                        3       \n",
       "6  1.1.1.1.  Sample complexity and generalization bounds    4       \n",
       "7  1.1.1.2.  Boolean function learning                      4       \n",
       "\n",
       "           lvls    new  \n",
       "3  [1]           False  \n",
       "4  [1, 1]        False  \n",
       "5  [1, 1, 1]     False  \n",
       "6  [1, 1, 1, 1]  False  \n",
       "7  [1, 1, 1, 2]  False  "
      ]
     },
     "execution_count": 19,
     "metadata": {},
     "output_type": "execute_result"
    }
   ],
   "source": [
    "ds_tax.head()"
   ]
  },
  {
   "cell_type": "code",
   "execution_count": 24,
   "metadata": {
    "code_folding": [
     5
    ]
   },
   "outputs": [],
   "source": [
    "root = anytree.Node('root')\n",
    "\n",
    "nodes = [root]\n",
    "prev_depth = 0\n",
    "parent = root\n",
    "for i, s in ds_tax.iterrows():\n",
    "    curr_depth = s['depth']\n",
    "    if curr_depth < prev_depth:\n",
    "        \n",
    "        for i in range(prev_depth - curr_depth):\n",
    "            parent = parent.parent\n",
    "            \n",
    "    elif curr_depth > prev_depth:\n",
    "        if curr_depth - prev_depth > 1:\n",
    "            print(s)\n",
    "            raise ValueError\n",
    "        parent = nodes[-1]\n",
    "        \n",
    "    n = anytree.Node(s['level'] + ' -- ' + s['label'], raw_name=s['label'],parent=parent)\n",
    "    nodes.append(n)\n",
    "    \n",
    "    prev_depth = curr_depth\n",
    "\n",
    "\n"
   ]
  },
  {
   "cell_type": "code",
   "execution_count": 25,
   "metadata": {
    "code_folding": [
     0
    ]
   },
   "outputs": [],
   "source": [
    "# for pre, fill, node in anytree.RenderTree(root):\n",
    "#     print(pre, node.name)\n"
   ]
  },
  {
   "cell_type": "code",
   "execution_count": 26,
   "metadata": {},
   "outputs": [],
   "source": [
    "from anytree.exporter import JsonExporter\n",
    "exporter = JsonExporter(indent=2)"
   ]
  },
  {
   "cell_type": "code",
   "execution_count": 27,
   "metadata": {},
   "outputs": [],
   "source": [
    "with open('ds_taxonomy.json', 'w') as f:\n",
    "    f.write(exporter.export(root))"
   ]
  },
  {
   "cell_type": "code",
   "execution_count": 28,
   "metadata": {},
   "outputs": [],
   "source": [
    "leaves = [i.raw_name for i in anytree.LevelOrderIter(root, filter_=lambda x: x.is_leaf)]"
   ]
  },
  {
   "cell_type": "code",
   "execution_count": 29,
   "metadata": {},
   "outputs": [
    {
     "data": {
      "text/plain": [
       "353"
      ]
     },
     "execution_count": 29,
     "metadata": {},
     "output_type": "execute_result"
    }
   ],
   "source": [
    "len(leaves)"
   ]
  },
  {
   "cell_type": "code",
   "execution_count": 30,
   "metadata": {},
   "outputs": [],
   "source": [
    "ds_tax['isleaf'] = ds_tax['label'].isin(leaves)"
   ]
  },
  {
   "cell_type": "code",
   "execution_count": 39,
   "metadata": {},
   "outputs": [],
   "source": [
    "ds_tax = (ds_tax\n",
    "    .assign(label=lambda x: (x['level'] + ' -- ' + x['label']))\n",
    "         )"
   ]
  },
  {
   "cell_type": "code",
   "execution_count": 40,
   "metadata": {},
   "outputs": [],
   "source": [
    "ds_tax.to_csv('data/ds_taxonomy_parsed_full.csv', index=False)"
   ]
  },
  {
   "cell_type": "markdown",
   "metadata": {},
   "source": [
    "---"
   ]
  },
  {
   "cell_type": "code",
   "execution_count": 41,
   "metadata": {
    "scrolled": true
   },
   "outputs": [
    {
     "data": {
      "text/plain": [
       "60"
      ]
     },
     "execution_count": 41,
     "metadata": {},
     "output_type": "execute_result"
    }
   ],
   "source": [
    "ds_tax.loc[lambda x: x.isleaf, 'new'].sum()"
   ]
  },
  {
   "cell_type": "code",
   "execution_count": 42,
   "metadata": {},
   "outputs": [
    {
     "data": {
      "text/plain": [
       "68"
      ]
     },
     "execution_count": 42,
     "metadata": {},
     "output_type": "execute_result"
    }
   ],
   "source": [
    "ds_tax.loc[:,  'new'].sum()"
   ]
  },
  {
   "cell_type": "code",
   "execution_count": 43,
   "metadata": {},
   "outputs": [
    {
     "data": {
      "text/plain": [
       "(456, 6)"
      ]
     },
     "execution_count": 43,
     "metadata": {},
     "output_type": "execute_result"
    }
   ],
   "source": [
    "ds_tax.shape"
   ]
  },
  {
   "cell_type": "markdown",
   "metadata": {},
   "source": [
    "---"
   ]
  },
  {
   "cell_type": "code",
   "execution_count": 32,
   "metadata": {},
   "outputs": [],
   "source": [
    "from pipe import *"
   ]
  },
  {
   "cell_type": "code",
   "execution_count": 33,
   "metadata": {},
   "outputs": [
    {
     "name": "stdout",
     "output_type": "stream",
     "text": [
      "\\begin{tabular}{ll}\n",
      "\\toprule\n",
      "level &                                                  label \\\\\n",
      "\\midrule\n",
      " 1. &  ~~~~Theory of computation \\\\\n",
      " 1.1. &  ~~~~~~~~Theory and algorithms for application domains \\\\\n",
      " 2. &  ~~~~Mathematics of computing \\\\\n",
      " 2.1. &  ~~~~~~~~Probability and statistics \\\\\n",
      " 3. &  ~~~~Information systems \\\\\n",
      " 3.1. &  ~~~~~~~~Data management systems \\\\\n",
      " 3.2. &  ~~~~~~~~Information systems applications \\\\\n",
      " 3.3. &  ~~~~~~~~World Wide Web \\\\\n",
      " 3.4. &  ~~~~~~~~Information retrieval \\\\\n",
      " 4. &  ~~~~Human-centered computing \\\\\n",
      " 4.1. &  ~~~~~~~~Visualization \\\\\n",
      " 5. &  ~~~~Computing methodologies \\\\\n",
      " 5.1. &  ~~~~~~~~Artificial intelligence \\\\\n",
      " 5.2. &  ~~~~~~~~Machine learning \\\\\n",
      "\\bottomrule\n",
      "\\end{tabular}\n"
     ]
    }
   ],
   "source": [
    "(ds_tax.loc[lambda x: x['depth'] <= 2, ['level', 'label', 'depth']]\n",
    ".assign(\n",
    "    level=lambda x: x['level'].str.replace(' ', '')\\\n",
    "                              .str.replace('\\+0', ''),\n",
    "    label=lambda x: (x['depth'].apply(lambda y: '~~~~'*y) + x['label'])\n",
    ")\n",
    " .loc[:, ['level', 'label']]\n",
    " .to_latex(index=False, escape=False)\n",
    "\n",
    ") | stdout"
   ]
  },
  {
   "cell_type": "code",
   "execution_count": 162,
   "metadata": {},
   "outputs": [
    {
     "name": "stdout",
     "output_type": "stream",
     "text": [
      "\\begin{longtable}{lllllll}\n",
      "\\toprule\n",
      "        level & \\multicolumn{6}{l}{label} \\\\\n",
      "              &                         1 &                                              2 &                                             3 &                                                       4 &                                               5 &                                   6 \\\\\n",
      "\\midrule\n",
      "\\endhead\n",
      "\\midrule\n",
      "\\multicolumn{7}{r}{{Continued on next page}} \\\\\n",
      "\\midrule\n",
      "\\endfoot\n",
      "\n",
      "\\bottomrule\n",
      "\\endlastfoot\n",
      " 1. &  Theory of computation &   &   &   &   &   \\\\\n",
      " 1.1. &   &  Theory and algorithms for application domains &   &   &   &   \\\\\n",
      " 1.1.1. &   &   &  Machine learning theory &   &   &   \\\\\n",
      " 1.1.1.1. &   &   &   &  Sample complexity and generalization bounds &   &   \\\\\n",
      " 1.1.1.2. &   &   &   &  Boolean function learning &   &   \\\\\n",
      " 1.1.1.3. &   &   &   &  Unsupervised learning and clustering &   &   \\\\\n",
      " 1.1.1.4. &   &   &   &  Kernel methods &   &   \\\\\n",
      " 1.1.1.4.1. &   &   &   &   &  Support vector machines &   \\\\\n",
      " 1.1.1.4.2. &   &   &   &   &  Gaussian processes &   \\\\\n",
      " 1.1.1.4.3. &   &   &   &   &  Modelling &   \\\\\n",
      " 1.1.1.5. &   &   &   &  Boosting &   &   \\\\\n",
      " 1.1.1.6. &   &   &   &  Bayesian analysis &   &   \\\\\n",
      " 1.1.1.7. &   &   &   &  Inductive inference &   &   \\\\\n",
      " 1.1.1.8. &   &   &   &  Online learning theory &   &   \\\\\n",
      " 1.1.1.9. &   &   &   &  Multi-agent learning &   &   \\\\\n",
      " 1.1.1.10. &   &   &   &  Models of learning &   &   \\\\\n",
      " 1.1.1.11. &   &   &   &  Query learning &   &   \\\\\n",
      " 1.1.1.12. &   &   &   &  Structured prediction &   &   \\\\\n",
      " 1.1.1.13. &   &   &   &  Reinforcement learning &   &   \\\\\n",
      " 1.1.1.13.1. &   &   &   &   &  Sequential decision making &   \\\\\n",
      " 1.1.1.13.2. &   &   &   &   &  Inverse reinforcement learning &   \\\\\n",
      " 1.1.1.13.3. &   &   &   &   &  Apprenticeship learning &   \\\\\n",
      " 1.1.1.13.4. &   &   &   &   &  Multi-agent reinforcement learning &   \\\\\n",
      " 1.1.1.13.5. &   &   &   &   &  Adversarial learning &   \\\\\n",
      " 1.1.1.14. &   &   &   &  Active learning &   &   \\\\\n",
      " 1.1.1.15. &   &   &   &  Semi-supervised learning &   &   \\\\\n",
      " 1.1.1.16. &   &   &   &  Markov decision processes &   &   \\\\\n",
      " 1.1.1.17. &   &   &   &  Regret bounds &   &   \\\\\n",
      " 1.1.2. &   &   &  Database theory &   &   &   \\\\\n",
      " 1.1.2.1. &   &   &   &  Data exchange &   &   \\\\\n",
      " 1.1.2.2. &   &   &   &  Data provenance &   &   \\\\\n",
      " 1.1.2.3. &   &   &   &  Data modeling &   &   \\\\\n",
      " 1.1.2.4. &   &   &   &  Database query languages (principles) &   &   \\\\\n",
      " 1.1.2.5. &   &   &   &  Database constraints theory &   &   \\\\\n",
      " 1.1.2.6. &   &   &   &  Database interoperability &   &   \\\\\n",
      " 1.1.2.7. &   &   &   &  Data structures and algorithms for data management &   &   \\\\\n",
      " 1.1.2.8. &   &   &   &  Database query processing and optimization (theory) &   &   \\\\\n",
      " 1.1.2.9. &   &   &   &  Data integration &   &   \\\\\n",
      " 1.1.2.10. &   &   &   &  Logic and databases &   &   \\\\\n",
      " 1.1.2.11. &   &   &   &  Theory of database privacy and security &   &   \\\\\n",
      " 1.1.2.12. &   &   &   &  Incomplete, inconsistent, and uncertain databases &   &   \\\\\n",
      " 2. &  Mathematics of computing &   &   &   &   &   \\\\\n",
      " 2.1. &   &  Probability and statistics &   &   &   &   \\\\\n",
      " 2.1.1. &   &   &  Probabilistic representations &   &   &   \\\\\n",
      " 2.1.1.1. &   &   &   &  Bayesian networks &   &   \\\\\n",
      " 2.1.1.2. &   &   &   &  Markov networks &   &   \\\\\n",
      " 2.1.1.3. &   &   &   &  Factor graphs &   &   \\\\\n",
      " 2.1.1.4. &   &   &   &  Decision diagrams &   &   \\\\\n",
      " 2.1.1.5. &   &   &   &  Equational models &   &   \\\\\n",
      " 2.1.1.6. &   &   &   &  Causal networks &   &   \\\\\n",
      " 2.1.1.7. &   &   &   &  Stochastic differential equations &   &   \\\\\n",
      " 2.1.1.8. &   &   &   &  Nonparametric representations &   &   \\\\\n",
      " 2.1.1.8.1. &   &   &   &   &  Kernel density estimators &   \\\\\n",
      " 2.1.1.8.2. &   &   &   &   &  Spline models &   \\\\\n",
      " 2.1.1.8.3. &   &   &   &   &  Bayesian nonparametric models &   \\\\\n",
      " 2.1.2. &   &   &  Probabilistic inference problems &   &   &   \\\\\n",
      " 2.1.2.1. &   &   &   &  Maximum likelihood estimation &   &   \\\\\n",
      " 2.1.2.2. &   &   &   &  Bayesian computation &   &   \\\\\n",
      " 2.1.2.3. &   &   &   &  Computing most probable explanation &   &   \\\\\n",
      " 2.1.2.4. &   &   &   &  Hypothesis testing and confidence interval computation &   &   \\\\\n",
      " 2.1.2.5. &   &   &   &  Density estimation &   &   \\\\\n",
      " 2.1.2.5.1. &   &   &   &   &  Quantile regression &   \\\\\n",
      " 2.1.2.6. &   &   &   &  Max marginal computation &   &   \\\\\n",
      " 2.1.3. &   &   &  Probabilistic reasoning algorithms &   &   &   \\\\\n",
      " 2.1.3.1. &   &   &   &  Variable elimination &   &   \\\\\n",
      " 2.1.3.2. &   &   &   &  Loopy belief propagation &   &   \\\\\n",
      " 2.1.3.3. &   &   &   &  Variational methods &   &   \\\\\n",
      " 2.1.3.4. &   &   &   &  Expectation maximization &   &   \\\\\n",
      " 2.1.3.5. &   &   &   &  Markov-chain Monte Carlo methods &   &   \\\\\n",
      " 2.1.3.5.1. &   &   &   &   &  Gibbs sampling &   \\\\\n",
      " 2.1.3.5.2. &   &   &   &   &  Metropolis-Hastings algorithm &   \\\\\n",
      " 2.1.3.5.3. &   &   &   &   &  Simulated annealing &   \\\\\n",
      " 2.1.3.5.4. &   &   &   &   &  Markov-chain Monte Carlo convergence measures &   \\\\\n",
      " 2.1.3.6. &   &   &   &  Sequential Monte Carlo methods &   &   \\\\\n",
      " 2.1.3.7. &   &   &   &  Kalman filters and hidden Markov models &   &   \\\\\n",
      " 2.1.3.7.1 &   &   &   &   &  Factorial HMM &   \\\\\n",
      " 2.1.3.8. &   &   &   &  Resampling methods &   &   \\\\\n",
      " 2.1.3.8.1. &   &   &   &   &  Bootstrapping &   \\\\\n",
      " 2.1.3.8.2. &   &   &   &   &  Jackknifing &   \\\\\n",
      " 2.1.3.9. &   &   &   &  Random number generation &   &   \\\\\n",
      " 2.1.4. &   &   &  Probabilistic algorithms &   &   &   \\\\\n",
      " 2.1.5. &   &   &  Statistical paradigms &   &   &   \\\\\n",
      " 2.1.5.1. &   &   &   &  Queueing theory &   &   \\\\\n",
      " 2.1.5.2. &   &   &   &  Contingency table analysis &   &   \\\\\n",
      " 2.1.5.3. &   &   &   &  Regression analysis &   &   \\\\\n",
      " 2.1.5.3.1. &   &   &   &   &  Robust regression &   \\\\\n",
      " 2.1.5.4. &   &   &   &  Time series analysis &   &   \\\\\n",
      " 2.1.5.5. &   &   &   &  Survival analysis &   &   \\\\\n",
      " 2.1.5.6. &   &   &   &  Renewal theory &   &   \\\\\n",
      " 2.1.5.7. &   &   &   &  Dimensionality reduction &   &   \\\\\n",
      " 2.1.5.8. &   &   &   &  Cluster analysis &   &   \\\\\n",
      " 2.1.5.9. &   &   &   &  Statistical graphics &   &   \\\\\n",
      " 2.1.5.10. &   &   &   &  Exploratory data analysis &   &   \\\\\n",
      " 2.1.6. &   &   &  Stochastic processes &   &   &   \\\\\n",
      " 2.1.6.1. &   &   &   &  Markov processes &   &   \\\\\n",
      " 2.1.7. &   &   &  Nonparametric statistics &   &   &   \\\\\n",
      " 2.1.8. &   &   &  Distribution functions &   &   &   \\\\\n",
      " 2.1.9. &   &   &  Multivariate statistics &   &   &   \\\\\n",
      " 3. &  Information systems &   &   &   &   &   \\\\\n",
      " 3.1. &   &  Data management systems &   &   &   &   \\\\\n",
      " 3.1.1. &   &   &  Database design and models &   &   &   \\\\\n",
      " 3.1.1.1. &   &   &   &  Relational database model &   &   \\\\\n",
      " 3.1.1.2. &   &   &   &  Entity relationship models &   &   \\\\\n",
      " 3.1.1.3. &   &   &   &  Graph-based database models &   &   \\\\\n",
      " 3.1.1.3.1. &   &   &   &   &  Hierarchical data models &   \\\\\n",
      " 3.1.1.3.2. &   &   &   &   &  Network data models &   \\\\\n",
      " 3.1.1.4. &   &   &   &  Physical data models &   &   \\\\\n",
      " 3.1.1.5. &   &   &   &  Data model extensions &   &   \\\\\n",
      " 3.1.1.5.1. &   &   &   &   &  Semi-structured data &   \\\\\n",
      " 3.1.1.5.2. &   &   &   &   &  Data streams &   \\\\\n",
      " 3.1.1.5.3. &   &   &   &   &  Data provenance &   \\\\\n",
      " 3.1.1.5.4. &   &   &   &   &  Incomplete data &   \\\\\n",
      " 3.1.1.5.5. &   &   &   &   &  Temporal data &   \\\\\n",
      " 3.1.1.5.6. &   &   &   &   &  Uncertainty &   \\\\\n",
      " 3.1.1.5.7. &   &   &   &   &  Inconsistent data &   \\\\\n",
      " 3.1.2. &   &   &  Data structures &   &   &   \\\\\n",
      " 3.1.2.1. &   &   &   &  Data access methods &   &   \\\\\n",
      " 3.1.2.1.1. &   &   &   &   &  Multidimensional range search &   \\\\\n",
      " 3.1.2.1.2. &   &   &   &   &  Data scans &   \\\\\n",
      " 3.1.2.1.3. &   &   &   &   &  Point lookups &   \\\\\n",
      " 3.1.2.1.4. &   &   &   &   &  Unidimensional range search &   \\\\\n",
      " 3.1.2.1.5. &   &   &   &   &  Proximity search &   \\\\\n",
      " 3.1.2.2. &   &   &   &  Data layout &   &   \\\\\n",
      " 3.1.2.2.1. &   &   &   &   &  Data compression &   \\\\\n",
      " 3.1.2.2.2. &   &   &   &   &  Data encryption &   \\\\\n",
      " 3.1.2.2.3. &   &   &   &   &  Record and block layout &   \\\\\n",
      " 3.1.3. &   &   &  Database management system engines &   &   &   \\\\\n",
      " 3.1.3.1. &   &   &   &  DBMS engine architectures &   &   \\\\\n",
      " 3.1.3.2. &   &   &   &  Database query processing &   &   \\\\\n",
      " 3.1.3.2.1. &   &   &   &   &  Query optimization &   \\\\\n",
      " 3.1.3.2.2. &   &   &   &   &  Query operators &   \\\\\n",
      " 3.1.3.2.3. &   &   &   &   &  Query planning &   \\\\\n",
      " 3.1.3.2.3. &   &   &   &   &  Join algorithms &   \\\\\n",
      " 3.1.3.3. &   &   &   &  Database transaction processing &   &   \\\\\n",
      " 3.1.3.3.1. &   &   &   &   &  Data locking &   \\\\\n",
      " 3.1.3.3.2. &   &   &   &   &  Transaction logging &   \\\\\n",
      " 3.1.3.3.3. &   &   &   &   &  Database recovery &   \\\\\n",
      " 3.1.3.4. &   &   &   &  Record and buffer management &   &   \\\\\n",
      " 3.1.3.5. &   &   &   &  Parallel and distributed DBMSs &   &   \\\\\n",
      " 3.1.3.5.1. &   &   &   &   &  Key-value stores &   \\\\\n",
      " 3.1.3.5.2. &   &   &   &   &  MapReduce-based systems &   \\\\\n",
      " 3.1.3.5.3. &   &   &   &   &  Relational parallel and distributed DBMSs &   \\\\\n",
      " 3.1.3.6. &   &   &   &  Triggers and rules &   &   \\\\\n",
      " 3.1.3.7. &   &   &   &  Database views &   &   \\\\\n",
      " 3.1.3.8. &   &   &   &  Integrity checking &   &   \\\\\n",
      " 3.1.3.9. &   &   &   &  Distributed database transactions &   &   \\\\\n",
      " 3.1.3.9.1. &   &   &   &   &  Distributed data locking &   \\\\\n",
      " 3.1.3.9.2. &   &   &   &   &  Deadlocks &   \\\\\n",
      " 3.1.3.9.3. &   &   &   &   &  Distributed database recovery &   \\\\\n",
      " 3.1.3.10. &   &   &   &  Main memory engines &   &   \\\\\n",
      " 3.1.3.11. &   &   &   &  Online analytical processing engines &   &   \\\\\n",
      " 3.1.3.12. &   &   &   &  Stream management &   &   \\\\\n",
      " 3.1.4. &   &   &  Query languages &   &   &   \\\\\n",
      " 3.1.4.1. &   &   &   &  Relational database query languages &   &   \\\\\n",
      " 3.1.4.1.1. &   &   &   &   &  Structured Query Language &   \\\\\n",
      " 3.1.4.2. &   &   &   &  XML query languages &   &   \\\\\n",
      " 3.1.4.2.1 &   &   &   &   &  XPath &   \\\\\n",
      " 3.1.4.2.2. &   &   &   &   &  XQuery &   \\\\\n",
      " 3.1.4.3. &   &   &   &  Query languages for non-relational engines &   &   \\\\\n",
      " 3.1.4.3.1. &   &   &   &   &  MapReduce languages &   \\\\\n",
      " 3.1.4.4. &   &   &   &  Call level interfaces &   &   \\\\\n",
      " 3.1.5. &   &   &  Information integration &   &   &   \\\\\n",
      " 3.1.5.1. &   &   &   &  Deduplication &   &   \\\\\n",
      " 3.1.5.2. &   &   &   &  Extraction, transformation and loading &   &   \\\\\n",
      " 3.1.5.3. &   &   &   &  Data exchange &   &   \\\\\n",
      " 3.1.5.4. &   &   &   &  Data cleaning &   &   \\\\\n",
      " 3.1.5.5. &   &   &   &  Wrappers (data mining) &   &   \\\\\n",
      " 3.1.5.6. &   &   &   &  Mediators and data integration &   &   \\\\\n",
      " 3.1.5.7. &   &   &   &  Entity resolution &   &   \\\\\n",
      " 3.1.5.8. &   &   &   &  Data warehouses &   &   \\\\\n",
      " 3.1.5.9. &   &   &   &  Federated databases &   &   \\\\\n",
      " 3.2. &   &  Information systems applications &   &   &   &   \\\\\n",
      " 3.2.1. &   &   &  Data mining &   &   &   \\\\\n",
      " 3.2.1.1. &   &   &   &  Data cleaning &   &   \\\\\n",
      " 3.2.1.2. &   &   &   &  Collaborative filtering &   &   \\\\\n",
      " 3.2.1.2.1 &   &   &   &   &  Item-based &   \\\\\n",
      " 3.2.1.2.2 &   &   &   &   &  Scalable &   \\\\\n",
      " 3.2.1.3. &   &   &   &  Association rules &   &   \\\\\n",
      " 3.2.1.3.1 &   &   &   &   &  Types of association rules &   \\\\\n",
      " 3.2.1.3.2 &   &   &   &   &  Interestingness &   \\\\\n",
      " 3.2.1.3.3 &   &   &   &   &  Parallel computation &   \\\\\n",
      " 3.2.1.4. &   &   &   &  Clustering &   &   \\\\\n",
      " 3.2.1.4.1 &   &   &   &   &  Massive data clustering &   \\\\\n",
      " 3.2.1.4.2 &   &   &   &   &  Consensus clustering &   \\\\\n",
      " 3.2.1.4.3 &   &   &   &   &  Fuzzy clustering &   \\\\\n",
      " 3.2.1.4.4 &   &   &   &   &  Additive clustering &   \\\\\n",
      " 3.2.1.4.5 &   &   &   &   &  Feature weight clustering &   \\\\\n",
      " 3.2.1.4.6 &   &   &   &   &  Conceptual clustering &   \\\\\n",
      " 3.2.1.4.7 &   &   &   &   &  Biclustering &   \\\\\n",
      " 3.2.1.5. &   &   &   &  Nearest-neighbor search &   &   \\\\\n",
      " 3.2.1.6. &   &   &   &  Data stream mining &   &   \\\\\n",
      " 3.2.1.7 &   &   &   &  Graph mining &   &   \\\\\n",
      " 3.2.1.7.1 &   &   &   &   &  Graph partitioning &   \\\\\n",
      " 3.2.1.7.2 &   &   &   &   &  Frequent graph mining &   \\\\\n",
      " 3.2.1.7.3 &   &   &   &   &  Graph based conceptual clustering &   \\\\\n",
      " 3.2.1.7.4 &   &   &   &   &  Anomaly detection &   \\\\\n",
      " 3.2.1.7.5 &   &   &   &   &  Critical nodes detection &   \\\\\n",
      " 3.2.1.8. &   &   &   &  Process mining &   &   \\\\\n",
      " 3.2.1.11 &   &   &   &  Text mining &   &   \\\\\n",
      " 3.2.1.11.1 &   &   &   &   &  Text categorization &   \\\\\n",
      " 3.2.1.11.2 &   &   &   &   &  Key-phrase indexing &   \\\\\n",
      " 3.2.1.10. &   &   &   &  Data mining tools &   &   \\\\\n",
      " 3.2.1.9 &   &   &   &  Sequence mining &   &   \\\\\n",
      " 3.2.1.9.1. &   &   &   &   &  Rule and pattern discovery &   \\\\\n",
      " 3.2.1.9.2. &   &   &   &   &  Trajectory clustering &   \\\\\n",
      " 3.2.1.9.3 &   &   &   &   &  Market graph &   \\\\\n",
      " 3.2.1.12 &   &   &   &  Formal concept analysis &   &   \\\\\n",
      " 3.3. &   &  World Wide Web &   &   &   &   \\\\\n",
      " 3.3.1. &   &   &  Web mining &   &   &   \\\\\n",
      " 3.3.1.2. &   &   &   &  Site wrapping &   &   \\\\\n",
      " 3.3.1.3. &   &   &   &  Data extraction and integration &   &   \\\\\n",
      " 3.3.1.3.1 &   &   &   &   &  Deep web &   \\\\\n",
      " 3.3.1.3.2. &   &   &   &   &  Surfacing &   \\\\\n",
      " 3.3.1.3.3. &   &   &   &   &  Search results deduplication &   \\\\\n",
      " 3.3.1.4. &   &   &   &  Web log analysis &   &   \\\\\n",
      " 3.3.1.5. &   &   &   &  Traffic analysis &   &   \\\\\n",
      " 3.3.1.6 &   &   &   &  Knowledge discovery &   &   \\\\\n",
      " 3.4. &   &  Information retrieval &   &   &   &   \\\\\n",
      " 3.4.1. &   &   &  Document representation &   &   &   \\\\\n",
      " 3.4.1.1. &   &   &   &  Document structure &   &   \\\\\n",
      " 3.4.1.2. &   &   &   &  Document topic models &   &   \\\\\n",
      " 3.4.1.3. &   &   &   &  Content analysis and feature selection &   &   \\\\\n",
      " 3.4.1.4. &   &   &   &  Data encoding and canonicalization &   &   \\\\\n",
      " 3.4.1.5. &   &   &   &  Document collection models &   &   \\\\\n",
      " 3.4.1.6. &   &   &   &  Ontologies &   &   \\\\\n",
      " 3.4.1.7. &   &   &   &  Dictionaries &   &   \\\\\n",
      " 3.4.1.8. &   &   &   &  Thesauri &   &   \\\\\n",
      " 3.4.2. &   &   &  Information retrieval query processing &   &   &   \\\\\n",
      " 3.4.2.1. &   &   &   &  Query representation &   &   \\\\\n",
      " 3.4.2.2. &   &   &   &  Query intent &   &   \\\\\n",
      " 3.4.2.3. &   &   &   &  Query log analysis &   &   \\\\\n",
      " 3.4.2.4. &   &   &   &  Query suggestion &   &   \\\\\n",
      " 3.4.2.5. &   &   &   &  Query reformulation &   &   \\\\\n",
      " 3.4.3. &   &   &  Users and interactive retrieval &   &   &   \\\\\n",
      " 3.4.3.1. &   &   &   &  Personalization &   &   \\\\\n",
      " 3.4.3.2. &   &   &   &  Task models &   &   \\\\\n",
      " 3.4.3.3. &   &   &   &  Search interfaces &   &   \\\\\n",
      " 3.4.3.4. &   &   &   &  Collaborative search &   &   \\\\\n",
      " 3.4.4. &   &   &  Retrieval models and ranking &   &   &   \\\\\n",
      " 3.4.4.1. &   &   &   &  Rank aggregation &   &   \\\\\n",
      " 3.4.4.2. &   &   &   &  Probabilistic retrieval models &   &   \\\\\n",
      " 3.4.4.3. &   &   &   &  Language models &   &   \\\\\n",
      " 3.4.4.4. &   &   &   &  Similarity measures &   &   \\\\\n",
      " 3.4.4.5. &   &   &   &  Learning to rank &   &   \\\\\n",
      " 3.4.4.6. &   &   &   &  Combination, fusion and federated search &   &   \\\\\n",
      " 3.4.4.7. &   &   &   &  Information retrieval diversity &   &   \\\\\n",
      " 3.4.4.8. &   &   &   &  Top-k retrieval in databases &   &   \\\\\n",
      " 3.4.4.9. &   &   &   &  Novelty in information retrieval &   &   \\\\\n",
      " 3.4.5. &   &   &  Retrieval tasks and goals &   &   &   \\\\\n",
      " 3.4.5.1. &   &   &   &  Question answering &   &   \\\\\n",
      " 3.4.5.2. &   &   &   &  Document filtering &   &   \\\\\n",
      " 3.4.5.3. &   &   &   &  Recommender systems &   &   \\\\\n",
      " 3.4.5.4. &   &   &   &  Information extraction &   &   \\\\\n",
      " 3.4.5.5. &   &   &   &  Sentiment analysis &   &   \\\\\n",
      " 3.4.5.6. &   &   &   &  Expert search &   &   \\\\\n",
      " 3.4.5.7. &   &   &   &  Near-duplicate and plagiarism detection &   &   \\\\\n",
      " 3.4.5.8. &   &   &   &  Clustering and classification &   &   \\\\\n",
      " 3.4.5.9. &   &   &   &  Summarization &   &   \\\\\n",
      " 3.4.5.10. &   &   &   &  Business intelligence &   &   \\\\\n",
      " 3.4.6. &   &   &  Evaluation of retrieval results &   &   &   \\\\\n",
      " 3.4.6.1. &   &   &   &  Test collections &   &   \\\\\n",
      " 3.4.6.2. &   &   &   &  Relevance assessment &   &   \\\\\n",
      " 3.4.6.3. &   &   &   &  Retrieval effectiveness &   &   \\\\\n",
      " 3.4.6.4. &   &   &   &  Retrieval efficiency &   &   \\\\\n",
      " 3.4.6.5. &   &   &   &  Presentation of retrieval results &   &   \\\\\n",
      " 3.4.7. &   &   &  Specialized information retrieval &   &   &   \\\\\n",
      " 3.4.7.1. &   &   &   &  Structure and multilingual text search &   &   \\\\\n",
      " 3.4.7.1.1. &   &   &   &   &  Structured text search &   \\\\\n",
      " 3.4.7.1.2. &   &   &   &   &  Mathematics retrieval &   \\\\\n",
      " 3.4.7.1.3. &   &   &   &   &  Chemical and biochemical retrieval &   \\\\\n",
      " 3.4.7.1.4. &   &   &   &   &  Multilingual and cross-lingual retrieval &   \\\\\n",
      " 3.4.7.2. &   &   &   &  Multimedia and multimodal retrieval &   &   \\\\\n",
      " 3.4.7.2.1. &   &   &   &   &  Image search &   \\\\\n",
      " 3.4.7.2.2. &   &   &   &   &  Video search &   \\\\\n",
      " 3.4.7.2.3. &   &   &   &   &  Speech / audio search &   \\\\\n",
      " 3.4.7.2.4. &   &   &   &   &  Music retrieval &   \\\\\n",
      " 3.4.7.3. &   &   &   &  Environment-specific retrieval &   &   \\\\\n",
      " 3.4.7.3.1. &   &   &   &   &  Enterprise search &   \\\\\n",
      " 3.4.7.3.2. &   &   &   &   &  Desktop search &   \\\\\n",
      " 3.4.7.3.3. &   &   &   &   &  Web and social media search &   \\\\\n",
      " 4. &  Human-centered computing &   &   &   &   &   \\\\\n",
      " 4.1. &   &  Visualization &   &   &   &   \\\\\n",
      " 4.1.2. &   &   &  Visualization techniques &   &   &   \\\\\n",
      " 4.1.2.1. &   &   &   &  Treemaps &   &   \\\\\n",
      " 4.1.2.2. &   &   &   &  Hyperbolic trees &   &   \\\\\n",
      " 4.1.2.3. &   &   &   &  Heat maps &   &   \\\\\n",
      " 4.1.2.4. &   &   &   &  Graph drawings &   &   \\\\\n",
      " 4.1.2.5. &   &   &   &  Dendrograms &   &   \\\\\n",
      " 4.1.2.6. &   &   &   &  Cladograms &   &   \\\\\n",
      " 4.1.2.7 &   &   &   &  Elastic maps &   &   \\\\\n",
      " 4.1.3. &   &   &  Visualization application domains &   &   &   \\\\\n",
      " 4.1.3.1. &   &   &   &  Scientific visualization &   &   \\\\\n",
      " 4.1.3.2. &   &   &   &  Visual analytics &   &   \\\\\n",
      " 4.1.3.3. &   &   &   &  Geographic visualization &   &   \\\\\n",
      " 4.1.3.4. &   &   &   &  Information visualization &   &   \\\\\n",
      " 4.1.4. &   &   &  Visualization systems and tools &   &   &   \\\\\n",
      " 4.1.4.1. &   &   &   &  Visualization toolkits &   &   \\\\\n",
      " 4.1.5. &   &   &  Visualization theory, concepts and paradigms &   &   &   \\\\\n",
      " 4.1.6. &   &   &  Empirical studies in visualization &   &   &   \\\\\n",
      " 4.1.7. &   &   &  Visualization design and evaluation methods &   &   &   \\\\\n",
      " 5. &  Computing methodologies &   &   &   &   &   \\\\\n",
      " 5.1. &   &  Artificial intelligence &   &   &   &   \\\\\n",
      " 5.1.1. &   &   &  Natural language processing &   &   &   \\\\\n",
      " 5.1.1.2. &   &   &   &  Information extraction &   &   \\\\\n",
      " 5.1.1.3. &   &   &   &  Machine translation &   &   \\\\\n",
      " 5.1.1.4. &   &   &   &  Discourse, dialogue and pragmatics &   &   \\\\\n",
      " 5.1.1.5. &   &   &   &  Natural language generation &   &   \\\\\n",
      " 5.1.1.6. &   &   &   &  Speech recognition &   &   \\\\\n",
      " 5.1.1.7. &   &   &   &  Lexical semantics &   &   \\\\\n",
      " 5.1.1.7.1 &   &   &   &   &  Wikipedia based semantics &   \\\\\n",
      " 5.1.1.8. &   &   &   &  Phonology / morphology &   &   \\\\\n",
      " 5.1.1.9. &   &   &   &  Language resources &   &   \\\\\n",
      " 5.1.2. &   &   &  Knowledge representation and reasoning &   &   &   \\\\\n",
      " 5.1.2.1. &   &   &   &  Description logics &   &   \\\\\n",
      " 5.1.2.2. &   &   &   &  Semantic networks &   &   \\\\\n",
      " 5.1.2.3. &   &   &   &  Nonmonotonic, default reasoning and belief revision &   &   \\\\\n",
      " 5.1.2.4. &   &   &   &  Probabilistic reasoning &   &   \\\\\n",
      " 5.1.2.5. &   &   &   &  Vagueness and fuzzy logic &   &   \\\\\n",
      " 5.1.2.6. &   &   &   &  Causal reasoning and diagnostics &   &   \\\\\n",
      " 5.1.2.7. &   &   &   &  Temporal reasoning &   &   \\\\\n",
      " 5.1.2.8. &   &   &   &  Cognitive robotics &   &   \\\\\n",
      " 5.1.2.9. &   &   &   &  Ontology engineering &   &   \\\\\n",
      " 5.1.2.10. &   &   &   &  Logic programming and answer set programming &   &   \\\\\n",
      " 5.1.2.11. &   &   &   &  Spatial and physical reasoning &   &   \\\\\n",
      " 5.1.2.12. &   &   &   &  Reasoning about belief and knowledge &   &   \\\\\n",
      " 5.1.3. &   &   &  Computer vision &   &   &   \\\\\n",
      " 5.1.3.1. &   &   &   &  Computer vision problems &   &   \\\\\n",
      " 5.1.3.1.1. &   &   &   &   &  Interest point and salient region detections &   \\\\\n",
      " 5.1.3.1.2. &   &   &   &   &  Image segmentation &   \\\\\n",
      " 5.1.3.1.3. &   &   &   &   &  Video segmentation &   \\\\\n",
      " 5.1.3.1.4. &   &   &   &   &  Shape inference &   \\\\\n",
      " 5.1.3.1.5. &   &   &   &   &  Object detection &   \\\\\n",
      " 5.1.3.1.6. &   &   &   &   &  Object recognition &   \\\\\n",
      " 5.1.3.1.7. &   &   &   &   &  Object identification &   \\\\\n",
      " 5.1.3.1.8. &   &   &   &   &  Tracking &   \\\\\n",
      " 5.1.3.1.9. &   &   &   &   &  Reconstruction &   \\\\\n",
      " 5.1.3.1.10. &   &   &   &   &  Matching &   \\\\\n",
      " 5.1.3.2. &   &   &   &  Computer vision representations &   &   \\\\\n",
      " 5.1.3.2.1. &   &   &   &   &  Image representations &   \\\\\n",
      " 5.1.3.2.1.1 &   &   &   &   &   &  2D PCA \\\\\n",
      " 5.1.3.2.2. &   &   &   &   &  Shape representations &   \\\\\n",
      " 5.1.3.2.3. &   &   &   &   &  Appearance and texture representations &   \\\\\n",
      " 5.1.3.2.4. &   &   &   &   &  Hierarchical representations &   \\\\\n",
      " 5.2. &   &  Machine learning &   &   &   &   \\\\\n",
      " 5.2.1. &   &   &  Learning paradigms &   &   &   \\\\\n",
      " 5.2.1.1. &   &   &   &  Supervised learning &   &   \\\\\n",
      " 5.2.1.1.1. &   &   &   &   &  Ranking &   \\\\\n",
      " 5.2.1.1.2. &   &   &   &   &  Learning to rank &   \\\\\n",
      " 5.2.1.1.3. &   &   &   &   &  Supervised learning by classification &   \\\\\n",
      " 5.2.1.1.4. &   &   &   &   &  Supervised learning by regression &   \\\\\n",
      " 5.2.1.1.5. &   &   &   &   &  Structured outputs &   \\\\\n",
      " 5.2.1.1.6. &   &   &   &   &  Cost-sensitive learning &   \\\\\n",
      " 5.2.1.2. &   &   &   &  Unsupervised learning &   &   \\\\\n",
      " 5.2.1.2.1. &   &   &   &   &  Cluster analysis &   \\\\\n",
      " 5.2.1.2.2. &   &   &   &   &  Anomaly detection &   \\\\\n",
      " 5.2.1.2.3. &   &   &   &   &  Mixture modeling &   \\\\\n",
      " 5.2.1.2.4. &   &   &   &   &  Topic modeling &   \\\\\n",
      " 5.2.1.2.5. &   &   &   &   &  Source separation &   \\\\\n",
      " 5.2.1.2.6. &   &   &   &   &  Motif discovery &   \\\\\n",
      " 5.2.1.2.7. &   &   &   &   &  Dimensionality reduction and manifold learning &   \\\\\n",
      " 5.2.1.2.7.1 &   &   &   &   &   &  Graph embedding \\\\\n",
      " 5.2.1.2.7.2 &   &   &   &   &   &  Supervised dimesionality reduction \\\\\n",
      " 5.2.1.3. &   &   &   &  Reinforcement learning &   &   \\\\\n",
      " 5.2.1.3.1. &   &   &   &   &  Sequential decision making &   \\\\\n",
      " 5.2.1.3.2. &   &   &   &   &  Inverse reinforcement learning &   \\\\\n",
      " 5.2.1.3.3. &   &   &   &   &  Apprenticeship learning &   \\\\\n",
      " 5.2.1.3.4. &   &   &   &   &  Multi-agent reinforcement learning &   \\\\\n",
      " 5.2.1.3.5. &   &   &   &   &  Adversarial learning &   \\\\\n",
      " 5.2.1.4. &   &   &   &  Multi-task learning &   &   \\\\\n",
      " 5.2.1.4.1. &   &   &   &   &  Transfer learning &   \\\\\n",
      " 5.2.1.4.2. &   &   &   &   &  Lifelong machine learning &   \\\\\n",
      " 5.2.1.4.3. &   &   &   &   &  Learning under covariate shift &   \\\\\n",
      " 5.2.2. &   &   &  Learning settings &   &   &   \\\\\n",
      " 5.2.2.1. &   &   &   &  Batch learning &   &   \\\\\n",
      " 5.2.2.2. &   &   &   &  Online learning settings &   &   \\\\\n",
      " 5.2.2.3. &   &   &   &  Learning from demonstrations &   &   \\\\\n",
      " 5.2.2.4. &   &   &   &  Learning from critiques &   &   \\\\\n",
      " 5.2.2.5. &   &   &   &  Learning from implicit feedback &   &   \\\\\n",
      " 5.2.2.6. &   &   &   &  Active learning settings &   &   \\\\\n",
      " 5.2.2.7. &   &   &   &  Semi-supervised learning settings &   &   \\\\\n",
      " 5.2.2.7.1 &   &   &   &   &  Kernel approach &   \\\\\n",
      " 5.2.3. &   &   &  Machine learning approaches &   &   &   \\\\\n",
      " 5.2.3.1. &   &   &   &  Classification and regression trees &   &   \\\\\n",
      " 5.2.3.1.1 &   &   &   &   &  Parallel implementation &   \\\\\n",
      " 5.2.3.1.2 &   &   &   &   &  Splittting criteria &   \\\\\n",
      " 5.2.3.1.3 &   &   &   &   &  Model trees &   \\\\\n",
      " 5.2.3.2. &   &   &   &  Kernel methods &   &   \\\\\n",
      " 5.2.3.2.1. &   &   &   &   &  Kernel support vector machines &   \\\\\n",
      " 5.2.3.2.1.1 &   &   &   &   &   &  Dynamic \\\\\n",
      " 5.2.3.2.2. &   &   &   &   &  Gaussian processes &   \\\\\n",
      " 5.2.3.2.3 &   &   &   &   &  Kernel Matrix &   \\\\\n",
      " 5.2.3.2.4 &   &   &   &   &  Kernel Independent components &   \\\\\n",
      " 5.2.3.2.5 &   &   &   &   &  Kernel-based clustering &   \\\\\n",
      " 5.2.3.3. &   &   &   &  Neural networks &   &   \\\\\n",
      " 5.2.3.3.1 &   &   &   &   &  Self organized map &   \\\\\n",
      " 5.2.3.3.2 &   &   &   &   &  Training approaches &   \\\\\n",
      " 5.2.3.3.2.1 &   &   &   &   &   &  Evolutionary approach \\\\\n",
      " 5.2.3.3.3 &   &   &   &   &  Representation &   \\\\\n",
      " 5.2.3.3.3.1 &   &   &   &   &   &  Rule-based netwok archirtecture \\\\\n",
      " 5.2.3.3.3.2 &   &   &   &   &   &  Fuzzy representation \\\\\n",
      " 5.2.3.3.4 &   &   &   &   &  Evolving NN &   \\\\\n",
      " 5.2.3.3.5 &   &   &   &   &  Ensembling &   \\\\\n",
      " 5.2.3.4. &   &   &   &  Logical and relational learning &   &   \\\\\n",
      " 5.2.3.4.1. &   &   &   &   &  Inductive logic learning &   \\\\\n",
      " 5.2.3.4.2. &   &   &   &   &  Statistical relational learning &   \\\\\n",
      " 5.2.3.5. &   &   &   &  Learning in probabilistic graphical models &   &   \\\\\n",
      " 5.2.3.5.1. &   &   &   &   &  Maximum likelihood modeling &   \\\\\n",
      " 5.2.3.5.2. &   &   &   &   &  Maximum entropy modeling &   \\\\\n",
      " 5.2.3.5.3. &   &   &   &   &  Maximum a posteriori modeling &   \\\\\n",
      " 5.2.3.5.4. &   &   &   &   &  Mixture models &   \\\\\n",
      " 5.2.3.5.5. &   &   &   &   &  Latent variable models &   \\\\\n",
      " 5.2.3.5.6. &   &   &   &   &  Bayesian network models &   \\\\\n",
      " 5.2.3.5.7. &   &   &   &   &  Markov network models &   \\\\\n",
      " 5.2.3.6. &   &   &   &  Learning linear models &   &   \\\\\n",
      " 5.2.3.6.1. &   &   &   &   &  Perceptron algorithm &   \\\\\n",
      " 5.2.3.6.2 &   &   &   &   &  Linear Discriminant Analysis &   \\\\\n",
      " 5.2.3.6.2.1 &   &   &   &   &   &  Tensor representation \\\\\n",
      " 5.2.3.7. &   &   &   &  Factorization methods &   &   \\\\\n",
      " 5.2.3.7.1. &   &   &   &   &  Non-negative matrix factorization &   \\\\\n",
      " 5.2.3.7.2. &   &   &   &   &  Factor analysis &   \\\\\n",
      " 5.2.3.7.3. &   &   &   &   &  Principal component analysis &   \\\\\n",
      " 5.2.3.7.3.1 &   &   &   &   &   &  2D PCA \\\\\n",
      " 5.2.3.7.3.2 &   &   &   &   &   &  Sparse PCA \\\\\n",
      " 5.2.3.7.4. &   &   &   &   &  Canonical correlation analysis &   \\\\\n",
      " 5.2.3.7.6. &   &   &   &   &  Latent Dirichlet allocation &   \\\\\n",
      " 5.2.3.7.8. &   &   &   &   &  Independent Component Analysis &   \\\\\n",
      " 5.2.3.7.9 &   &   &   &   &  Nonlinear Principal Components &   \\\\\n",
      " 5.2.3.7.10 &   &   &   &   &  Multidimentional scaling &   \\\\\n",
      " 5.2.3.7.10.1 &   &   &   &   &   &  Least moduli \\\\\n",
      " 5.2.3.8. &   &   &   &  Rule learning &   &   \\\\\n",
      " 5.2.3.8.1 &   &   &   &   &  Neuro-fuzzy approach &   \\\\\n",
      " 5.2.3.9. &   &   &   &  Instance-based learning &   &   \\\\\n",
      " 5.2.3.10. &   &   &   &  Markov decision processes &   &   \\\\\n",
      " 5.2.3.11. &   &   &   &  Partially-observable Markov decision processes &   &   \\\\\n",
      " 5.2.3.12. &   &   &   &  Stochastic games &   &   \\\\\n",
      " 5.2.3.13. &   &   &   &  Learning latent representations &   &   \\\\\n",
      " 5.2.3.13.1. &   &   &   &   &  Deep belief networks &   \\\\\n",
      " 5.2.3.14 &   &   &   &  Multiresolution &   &   \\\\\n",
      " 5.2.3.15 &   &   &   &  Support vector machines &   &   \\\\\n",
      " 5.2.4. &   &   &  Machine learning algorithms &   &   &   \\\\\n",
      " 5.2.4.1. &   &   &   &  Dynamic programming for Markov decision processes &   &   \\\\\n",
      " 5.2.4.1.1. &   &   &   &   &  Value iteration &   \\\\\n",
      " 5.2.4.1.2. &   &   &   &   &  Q-learning &   \\\\\n",
      " 5.2.4.1.3. &   &   &   &   &  Policy iteration &   \\\\\n",
      " 5.2.4.1.4. &   &   &   &   &  Temporal difference learning &   \\\\\n",
      " 5.2.4.1.5. &   &   &   &   &  Approximate dynamic programming methods &   \\\\\n",
      " 5.2.4.2. &   &   &   &  Ensemble methods &   &   \\\\\n",
      " 5.2.4.2.1. &   &   &   &   &  Boosting &   \\\\\n",
      " 5.2.4.2.2. &   &   &   &   &  Bagging &   \\\\\n",
      " 5.2.4.2.3. &   &   &   &   &  Fusion of classifiers &   \\\\\n",
      " 5.2.4.3. &   &   &   &  Spectral methods &   &   \\\\\n",
      " 5.2.4.3.1 &   &   &   &   &  Spectral clustering &   \\\\\n",
      " 5.2.4.4. &   &   &   &  Feature selection &   &   \\\\\n",
      " 5.2.4.5. &   &   &   &  Regularization &   &   \\\\\n",
      " 5.2.4.5.1 &   &   &   &   &  Generalized eigenvalue &   \\\\\n",
      " 5.2.5. &   &   &  Cross-validation &   &   &   \\\\\n",
      "\\end{longtable}\n"
     ]
    }
   ],
   "source": [
    "(ds_tax.loc[:,  ['level', 'label', 'depth']]\n",
    ".assign(\n",
    "    level=lambda x: x['level'].str.replace(' ', '')\\\n",
    "                              .str.replace('\\+0', ''),\n",
    "#     label=lambda x: (x['depth'].apply(lambda y: '~~~~'*y) + x['label'])\n",
    ")\n",
    "#  .loc[:, ['level', 'label']]\n",
    "#  .to_latex(index=False, escape=False, longtable=True)\n",
    ".set_index(['level', 'depth'], append=True)\n",
    ".unstack()\n",
    ".fillna('')\n",
    " .reset_index()\n",
    " .drop('level_0', axis=1)\n",
    " .to_latex(longtable=True, index=False)\n",
    " ) | stdout"
   ]
  },
  {
   "cell_type": "markdown",
   "metadata": {},
   "source": [
    "---\n",
    "Plot"
   ]
  },
  {
   "cell_type": "code",
   "execution_count": 34,
   "metadata": {},
   "outputs": [],
   "source": [
    "from anytree import Resolver"
   ]
  },
  {
   "cell_type": "code",
   "execution_count": 72,
   "metadata": {},
   "outputs": [],
   "source": [
    "node = Resolver().get(root, '/root/5.+0 -- Computing methodologies/5.1. -- Artificial intelligence/5.1.1. -- Natural language processing')"
   ]
  },
  {
   "cell_type": "code",
   "execution_count": 36,
   "metadata": {},
   "outputs": [],
   "source": [
    "node = Resolver().get(root, '/root/5.+0 -- Computing methodologies/5.1. -- Artificial intelligence/5.1.3. -- Computer vision')"
   ]
  },
  {
   "cell_type": "code",
   "execution_count": 37,
   "metadata": {},
   "outputs": [
    {
     "data": {
      "text/plain": [
       "(Node('/root/5.+0 -- Computing methodologies/5.1. -- Artificial intelligence/5.1.3. -- Computer vision/5.1.3.1. -- Computer vision problems', raw_name='Computer vision problems'),\n",
       " Node('/root/5.+0 -- Computing methodologies/5.1. -- Artificial intelligence/5.1.3. -- Computer vision/5.1.3.2. -- Computer vision representations', raw_name='Computer vision representations'))"
      ]
     },
     "execution_count": 37,
     "metadata": {},
     "output_type": "execute_result"
    }
   ],
   "source": [
    "node.children"
   ]
  },
  {
   "cell_type": "code",
   "execution_count": 38,
   "metadata": {},
   "outputs": [],
   "source": [
    "from anytree.exporter import DotExporter\n",
    "dot = DotExporter(node)"
   ]
  },
  {
   "cell_type": "code",
   "execution_count": 74,
   "metadata": {},
   "outputs": [],
   "source": [
    "dot.to_dotfile('tax_2.dot')"
   ]
  },
  {
   "cell_type": "code",
   "execution_count": 69,
   "metadata": {},
   "outputs": [],
   "source": [
    "!dot -Tpdf tax_2.dot -o tax_2.pdf"
   ]
  },
  {
   "cell_type": "markdown",
   "metadata": {},
   "source": [
    "\n",
    "  rankdir=\"LR\";\n",
    "    node [ fontname=\"arial bold\", fontsize=20];"
   ]
  },
  {
   "cell_type": "code",
   "execution_count": 58,
   "metadata": {},
   "outputs": [],
   "source": [
    "!dot -Tpdf tax.dot -o tax.pdf"
   ]
  },
  {
   "cell_type": "markdown",
   "metadata": {},
   "source": [
    "---"
   ]
  },
  {
   "cell_type": "code",
   "execution_count": 77,
   "metadata": {},
   "outputs": [
    {
     "data": {
      "text/plain": [
       "0"
      ]
     },
     "execution_count": 77,
     "metadata": {},
     "output_type": "execute_result"
    }
   ],
   "source": [
    "root.depth"
   ]
  },
  {
   "cell_type": "code",
   "execution_count": 76,
   "metadata": {},
   "outputs": [
    {
     "data": {
      "text/plain": [
       "3"
      ]
     },
     "execution_count": 76,
     "metadata": {},
     "output_type": "execute_result"
    }
   ],
   "source": [
    "node.depth"
   ]
  },
  {
   "cell_type": "code",
   "execution_count": 78,
   "metadata": {},
   "outputs": [],
   "source": [
    "from anytree import LevelOrderIter"
   ]
  },
  {
   "cell_type": "code",
   "execution_count": 80,
   "metadata": {},
   "outputs": [],
   "source": [
    "for n in LevelOrderIter(root):\n",
    "    if n.depth > 2:\n",
    "        n.parent=None"
   ]
  },
  {
   "cell_type": "code",
   "execution_count": 81,
   "metadata": {},
   "outputs": [],
   "source": [
    "\n",
    "dot = DotExporter(root)"
   ]
  },
  {
   "cell_type": "code",
   "execution_count": 82,
   "metadata": {},
   "outputs": [],
   "source": [
    "dot.to_dotfile('tax_2upper.dot')"
   ]
  },
  {
   "cell_type": "code",
   "execution_count": 86,
   "metadata": {},
   "outputs": [],
   "source": [
    "!dot -Tpdf tax_2upper.dot -o tax_2upper.pdf"
   ]
  },
  {
   "cell_type": "code",
   "execution_count": null,
   "metadata": {},
   "outputs": [],
   "source": []
  }
 ],
 "metadata": {
  "kernelspec": {
   "display_name": "Python 3",
   "language": "python",
   "name": "python3"
  },
  "language_info": {
   "codemirror_mode": {
    "name": "ipython",
    "version": 3
   },
   "file_extension": ".py",
   "mimetype": "text/x-python",
   "name": "python",
   "nbconvert_exporter": "python",
   "pygments_lexer": "ipython3",
   "version": "3.7.3"
  },
  "toc": {
   "base_numbering": 1,
   "nav_menu": {},
   "number_sections": true,
   "sideBar": true,
   "skip_h1_title": false,
   "title_cell": "Table of Contents",
   "title_sidebar": "Contents",
   "toc_cell": false,
   "toc_position": {},
   "toc_section_display": true,
   "toc_window_display": false
  }
 },
 "nbformat": 4,
 "nbformat_minor": 2
}
