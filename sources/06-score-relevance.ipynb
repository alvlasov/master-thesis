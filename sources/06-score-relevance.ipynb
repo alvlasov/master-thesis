{
 "cells": [
  {
   "cell_type": "code",
   "execution_count": 1,
   "metadata": {
    "ExecuteTime": {
     "end_time": "2019-04-20T18:49:48.751073Z",
     "start_time": "2019-04-20T18:49:47.549554Z"
    }
   },
   "outputs": [],
   "source": [
    "%run lib.py"
   ]
  },
  {
   "cell_type": "markdown",
   "metadata": {},
   "source": [
    "# load text"
   ]
  },
  {
   "cell_type": "code",
   "execution_count": 2,
   "metadata": {},
   "outputs": [],
   "source": [
    "import text_util"
   ]
  },
  {
   "cell_type": "code",
   "execution_count": 3,
   "metadata": {
    "ExecuteTime": {
     "end_time": "2019-04-24T13:49:18.772052Z",
     "start_time": "2019-04-24T13:49:17.721899Z"
    }
   },
   "outputs": [],
   "source": [
    "pap = pd.read_csv('papers_parsed_relevant.csv',index_col=0)"
   ]
  },
  {
   "cell_type": "code",
   "execution_count": null,
   "metadata": {},
   "outputs": [],
   "source": [
    "pap.head().T"
   ]
  },
  {
   "cell_type": "code",
   "execution_count": 5,
   "metadata": {
    "ExecuteTime": {
     "end_time": "2019-04-24T13:49:19.514930Z",
     "start_time": "2019-04-24T13:49:19.039034Z"
    }
   },
   "outputs": [
    {
     "data": {
      "image/png": "[encoded data removed]",
      "text/plain": [
       "<Figure size 432x288 with 1 Axes>"
      ]
     },
     "metadata": {
      "needs_background": "light"
     },
     "output_type": "display_data"
    }
   ],
   "source": [
    "pap['abstract'].apply(str).apply(len).hist(bins=100);"
   ]
  },
  {
   "cell_type": "code",
   "execution_count": 10,
   "metadata": {
    "ExecuteTime": {
     "end_time": "2019-04-24T13:49:23.845821Z",
     "start_time": "2019-04-24T13:49:23.409167Z"
    }
   },
   "outputs": [],
   "source": [
    "pap['abstract'] = pap['abstract'].str.replace(r'^Abstract', '')\n",
    "texts_orig = (pap['title'] + ' ' + pap['abstract'])\n",
    "texts_orig = texts_orig[texts_orig.apply(str).apply(len) > 100]"
   ]
  },
  {
   "cell_type": "code",
   "execution_count": 11,
   "metadata": {
    "ExecuteTime": {
     "end_time": "2019-04-24T13:49:25.824687Z",
     "start_time": "2019-04-24T13:49:25.819035Z"
    }
   },
   "outputs": [],
   "source": [
    "tqdm.pandas()"
   ]
  },
  {
   "cell_type": "code",
   "execution_count": 35,
   "metadata": {
    "ExecuteTime": {
     "end_time": "2019-04-24T13:58:50.256277Z",
     "start_time": "2019-04-24T13:49:26.627699Z"
    }
   },
   "outputs": [
    {
     "name": "stderr",
     "output_type": "stream",
     "text": [
      "100%|██████████| 26799/26799 [09:23<00:00, 47.55it/s]\n"
     ]
    }
   ],
   "source": [
    "texts = texts_orig.progress_apply(reload(text_util).preprocess_text)"
   ]
  },
  {
   "cell_type": "code",
   "execution_count": 36,
   "metadata": {
    "ExecuteTime": {
     "end_time": "2019-04-24T13:58:50.766401Z",
     "start_time": "2019-04-24T13:58:50.259260Z"
    }
   },
   "outputs": [],
   "source": [
    "texts.to_frame().to_csv('texts_preproc_relevant.csv')"
   ]
  },
  {
   "cell_type": "markdown",
   "metadata": {},
   "source": [
    "---"
   ]
  },
  {
   "cell_type": "code",
   "execution_count": 6,
   "metadata": {
    "ExecuteTime": {
     "end_time": "2019-04-24T14:00:22.075510Z",
     "start_time": "2019-04-24T14:00:21.685644Z"
    }
   },
   "outputs": [],
   "source": [
    "texts = pd.read_csv('texts_preproc_relevant.csv', index_col=0).iloc[:, 0]"
   ]
  },
  {
   "cell_type": "code",
   "execution_count": 7,
   "metadata": {
    "ExecuteTime": {
     "end_time": "2019-04-24T14:00:22.084137Z",
     "start_time": "2019-04-24T14:00:22.079220Z"
    },
    "scrolled": true
   },
   "outputs": [
    {
     "data": {
      "text/plain": [
       "(26799,)"
      ]
     },
     "execution_count": 7,
     "metadata": {},
     "output_type": "execute_result"
    }
   ],
   "source": [
    "texts.shape"
   ]
  },
  {
   "cell_type": "markdown",
   "metadata": {},
   "source": [
    "---"
   ]
  },
  {
   "cell_type": "code",
   "execution_count": 15,
   "metadata": {
    "ExecuteTime": {
     "end_time": "2019-04-24T14:06:06.117234Z",
     "start_time": "2019-04-24T14:06:06.109910Z"
    }
   },
   "outputs": [
    {
     "name": "stdout",
     "output_type": "stream",
     "text": [
      "Writing build_ast.py\n"
     ]
    }
   ],
   "source": [
    "%%writefile build_ast.py\n",
    "import east\n",
    "\n",
    "def build_ast(data):\n",
    "    i, text = data\n",
    "    return i, east.asts.base.AST.get_ast(east.utils.text_to_strings_collection(text, words=5))"
   ]
  },
  {
   "cell_type": "code",
   "execution_count": 8,
   "metadata": {
    "ExecuteTime": {
     "end_time": "2019-04-24T14:06:06.423322Z",
     "start_time": "2019-04-24T14:06:06.416658Z"
    }
   },
   "outputs": [],
   "source": [
    "from tqdm import tqdm_notebook as tqdm\n",
    "import build_ast"
   ]
  },
  {
   "cell_type": "code",
   "execution_count": 13,
   "metadata": {
    "ExecuteTime": {
     "end_time": "2019-04-24T14:07:13.191585Z",
     "start_time": "2019-04-24T14:06:06.699773Z"
    }
   },
   "outputs": [
    {
     "data": {
      "application/vnd.jupyter.widget-view+json": {
       "model_id": "7604eb5c0eef4965973ed06d370602bf",
       "version_major": 2,
       "version_minor": 0
      },
      "text/plain": [
       "HBox(children=(IntProgress(value=0, max=26799), HTML(value='')))"
      ]
     },
     "metadata": {},
     "output_type": "display_data"
    },
    {
     "name": "stdout",
     "output_type": "stream",
     "text": [
      "\n"
     ]
    }
   ],
   "source": [
    "BUFF_SIZE = 5000\n",
    "with shelve.open('asts_relevant') as asts:\n",
    "    \n",
    "    keys = max([int(i)+1 for i in asts] + [0])\n",
    "    total = len([i for i, _ in texts.iteritems() if i >= keys])\n",
    "    \n",
    "    it = ((i, text) for i, text in texts.iteritems() if i >= keys)\n",
    "    executor = execute(reload(build_ast).build_ast, it, n_jobs=120)\n",
    "    \n",
    "    buffer = []\n",
    "    \n",
    "    max_i = 0\n",
    "    \n",
    "    for i, ast in tqdm(executor, total=total):\n",
    "\n",
    "        buffer.append((str(i), ast))\n",
    "        max_i = max(max_i, i)\n",
    "        if len(buffer) == BUFF_SIZE:\n",
    "            asts[str(max_i)] = buffer\n",
    "            buffer = []\n",
    "            \n",
    "    if len(buffer) > 0:\n",
    "        asts[str(max_i)] = buffer\n",
    "                \n",
    "        "
   ]
  },
  {
   "cell_type": "code",
   "execution_count": 14,
   "metadata": {
    "ExecuteTime": {
     "end_time": "2019-04-24T14:07:17.208526Z",
     "start_time": "2019-04-24T14:07:13.222816Z"
    }
   },
   "outputs": [
    {
     "name": "stdout",
     "output_type": "stream",
     "text": [
      "11887\n",
      "23071\n",
      "37016\n",
      "50273\n",
      "63793\n",
      "68931\n",
      "26799\n"
     ]
    }
   ],
   "source": [
    "with shelve.open('asts_relevant') as asts:\n",
    "    for k in asts:\n",
    "        print(k)\n",
    "    print( sum([len(asts[k]) for k in asts.keys()]))\n",
    "    "
   ]
  },
  {
   "cell_type": "code",
   "execution_count": 15,
   "metadata": {
    "ExecuteTime": {
     "end_time": "2019-04-24T14:35:48.456725Z",
     "start_time": "2019-04-24T14:35:47.907719Z"
    }
   },
   "outputs": [
    {
     "name": "stdout",
     "output_type": "stream",
     "text": [
      "['CLUSTERCLUSTERANALYSISCLUSTERABILITYMETHODS', 'CLUSTERINGESSENTIALDATAMININGTOOL', 'AIMSDISCOVERINHERENTCLUSTERSTRUCTURE', 'DATAAPPLICATIONSAPPLYINGCLUSTERINGAPPROPRIATE', 'CLUSTERSTRUCTUREPRESENTSTUDYCLUSTERABILITY', 'EVALUATESWHETHERDATAPOSSESSESSTRUCTURE', 'INTEGRALPARTCLUSTERANALYSISHOWEVER', 'METHODSEVALUATINGCLUSTERABILITYVARYRADICALLY', 'MAKINGCHALLENGINGSELECTSUITABLEMEASURE', 'PAPERPERFORMEXTENSIVECOMPARISONMEASURES', 'CLUSTERABILITYPROVIDEGUIDELINESCLUSTERINGUSERS', 'REFERENCESELECTSUITABLEMEASURESAPPLICATIONS']\n"
     ]
    }
   ],
   "source": [
    "with shelve.open('asts_relevant') as asts:\n",
    "    print(asts['11887'][0][1].strings_collection)"
   ]
  },
  {
   "cell_type": "markdown",
   "metadata": {},
   "source": [
    "## score keywords"
   ]
  },
  {
   "cell_type": "code",
   "execution_count": 18,
   "metadata": {},
   "outputs": [],
   "source": [
    "ds_tax = pd.read_csv('data/ds_taxonomy_parsed_full.csv')\n",
    "\n",
    "topics = ds_tax['label'].values\n",
    "leaf_topics = topics[ds_tax['isleaf']]"
   ]
  },
  {
   "cell_type": "code",
   "execution_count": 25,
   "metadata": {
    "ExecuteTime": {
     "end_time": "2019-04-24T14:36:18.346668Z",
     "start_time": "2019-04-24T14:36:18.204030Z"
    }
   },
   "outputs": [],
   "source": [
    "topics = [east.utils.prepare_text(text_util.preprocess_text(t)).replace(' ', '') for t in leaf_topics]"
   ]
  },
  {
   "cell_type": "code",
   "execution_count": 26,
   "metadata": {},
   "outputs": [
    {
     "data": {
      "text/plain": [
       "353"
      ]
     },
     "execution_count": 26,
     "metadata": {},
     "output_type": "execute_result"
    }
   ],
   "source": [
    "len(topics)"
   ]
  },
  {
   "cell_type": "code",
   "execution_count": 27,
   "metadata": {
    "ExecuteTime": {
     "end_time": "2019-04-24T14:36:29.393457Z",
     "start_time": "2019-04-24T14:36:29.387564Z"
    },
    "scrolled": true
   },
   "outputs": [
    {
     "name": "stdout",
     "output_type": "stream",
     "text": [
      "['SAMPLECOMPLEXITYGENERALIZATIONBOUNDS', 'BOOLEANFUNCTIONLEARNING', 'UNSUPERVISEDLEARNINGCLUSTERING', 'SUPPORTVECTORMACHINES', 'GAUSSIANPROCESSES', 'MODELLING', 'BOOSTING', 'BAYESIANANALYSIS', 'INDUCTIVEINFERENCE', 'ONLINELEARNINGTHEORY', 'MULTIAGENTLEARNING', 'MODELSLEARNING', 'QUERYLEARNING', 'STRUCTUREDPREDICTION', 'SEQUENTIALDECISIONMAKING', 'INVERSEREINFORCEMENTLEARNING', 'APPRENTICESHIPLEARNING', 'MULTIAGENTREINFORCEMENTLEARNING', 'ADVERSARIALLEARNING', 'ACTIVELEARNING', 'SEMISUPERVISEDLEARNING', 'MARKOVDECISIONPROCESSES', 'REGRETBOUNDS', 'DATAEXCHANGE', 'DATAPROVENANCE', 'DATAMODELING', 'DATABASEQUERYLANGUAGESPRINCIPLES', 'DATABASECONSTRAINTSTHEORY', 'DATABASEINTEROPERABILITY', 'DATASTRUCTURESALGORITHMSDATAMANAGEMENT', 'DATABASEQUERYPROCESSINGOPTIMIZATIONTHEORY', 'DATAINTEGRATION', 'LOGICDATABASES', 'THEORYDATABASEPRIVACYSECURITY', 'INCOMPLETEINCONSISTENTUNCERTAINDATABASES', 'BAYESIANNETWORKS', 'MARKOVNETWORKS', 'FACTORGRAPHS', 'DECISIONDIAGRAMS', 'EQUATIONALMODELS', 'CAUSALNETWORKS', 'STOCHASTICDIFFERENTIALEQUATIONS', 'KERNELDENSITYESTIMATORS', 'SPLINEMODELS', 'BAYESIANNONPARAMETRICMODELS', 'MAXIMUMLIKELIHOODESTIMATION', 'BAYESIANCOMPUTATION', 'COMPUTINGPROBABLEEXPLANATION', 'HYPOTHESISTESTINGCONFIDENCEINTERVALCOMPUTATION', 'QUANTILEREGRESSION', 'MAXMARGINALCOMPUTATION', 'VARIABLEELIMINATION', 'LOOPYBELIEFPROPAGATION', 'VARIATIONALMETHODS', 'EXPECTATIONMAXIMIZATION', 'GIBBSSAMPLING', 'METROPOLISHASTINGSALGORITHM', 'SIMULATEDANNEALING', 'MARKOVCHAINMONTECARLOCONVERGENCEMEASURES', 'SEQUENTIALMONTECARLOMETHODS', 'FACTORIALHMM', 'BOOTSTRAPPING', 'JACKKNIFING', 'RANDOMNUMBERGENERATION', 'PROBABILISTICALGORITHMS', 'QUEUEINGTHEORY', 'CONTINGENCYTABLEANALYSIS', 'ROBUSTREGRESSION', 'TIMESERIESANALYSIS', 'SURVIVALANALYSIS', 'RENEWALTHEORY', 'DIMENSIONALITYREDUCTION', 'CLUSTERANALYSIS', 'STATISTICALGRAPHICS', 'EXPLORATORYDATAANALYSIS', 'MARKOVPROCESSES', 'NONPARAMETRICSTATISTICS', 'DISTRIBUTIONFUNCTIONS', 'MULTIVARIATESTATISTICS', 'RELATIONALDATABASEMODEL', 'ENTITYRELATIONSHIPMODELS', 'HIERARCHICALDATAMODELS', 'NETWORKDATAMODELS', 'PHYSICALDATAMODELS', 'SEMISTRUCTUREDDATA', 'DATASTREAMS', 'DATAPROVENANCE', 'INCOMPLETEDATA', 'TEMPORALDATA', 'UNCERTAINTY', 'INCONSISTENTDATA', 'MULTIDIMENSIONALRANGESEARCH', 'DATASCANS', 'POINTLOOKUPS', 'UNIDIMENSIONALRANGESEARCH', 'PROXIMITYSEARCH', 'DATACOMPRESSION', 'DATAENCRYPTION', 'RECORDBLOCKLAYOUT', 'DBMSENGINEARCHITECTURES', 'QUERYOPTIMIZATION', 'QUERYOPERATORS', 'QUERYPLANNING', 'JOINALGORITHMS', 'DATALOCKING', 'TRANSACTIONLOGGING', 'DATABASERECOVERY', 'RECORDBUFFERMANAGEMENT', 'KEYVALUESTORES', 'MAPREDUCEBASEDSYSTEMS', 'RELATIONALPARALLELDISTRIBUTEDDBMSS', 'TRIGGERSRULES', 'DATABASEVIEWS', 'INTEGRITYCHECKING', 'DISTRIBUTEDDATALOCKING', 'DEADLOCKS', 'DISTRIBUTEDDATABASERECOVERY', 'MAINMEMORYENGINES', 'ONLINEANALYTICALPROCESSINGENGINES', 'STREAMMANAGEMENT', 'STRUCTUREDQUERYLANGUAGE', 'XPATH', 'XQUERY', 'MAPREDUCELANGUAGES', 'CALLLEVELINTERFACES', 'DEDUPLICATION', 'EXTRACTIONTRANSFORMATIONLOADING', 'DATAEXCHANGE', 'DATACLEANING', 'WRAPPERSDATAMINING', 'MEDIATORSDATAINTEGRATION', 'ENTITYRESOLUTION', 'DATAWAREHOUSES', 'FEDERATEDDATABASES', 'DATACLEANING', 'ITEMBASED', 'SCALABLE', 'TYPESASSOCIATIONRULES', 'INTERESTINGNESS', 'PARALLELCOMPUTATION', 'MASSIVEDATACLUSTERING', 'CONSENSUSCLUSTERING', 'FUZZYCLUSTERING', 'ADDITIVECLUSTERING', 'FEATUREWEIGHTCLUSTERING', 'CONCEPTUALCLUSTERING', 'BICLUSTERING', 'NEARESTNEIGHBORSEARCH', 'DATASTREAMMINING', 'GRAPHPARTITIONING', 'FREQUENTGRAPHMINING', 'GRAPHBASEDCONCEPTUALCLUSTERING', 'ANOMALYDETECTION', 'CRITICALNODESDETECTION', 'PROCESSMINING', 'TEXTCATEGORIZATION', 'KEYPHRASEINDEXING', 'DATAMININGTOOLS', 'RULEPATTERNDISCOVERY', 'TRAJECTORYCLUSTERING', 'MARKETGRAPH', 'FORMALCONCEPTANALYSIS', 'SITEWRAPPING', 'DEEPWEB', 'SURFACING', 'SEARCHRESULTSDEDUPLICATION', 'WEBLOGANALYSIS', 'TRAFFICANALYSIS', 'KNOWLEDGEDISCOVERY', 'DOCUMENTSTRUCTURE', 'DOCUMENTTOPICMODELS', 'CONTENTANALYSISFEATURESELECTION', 'DATAENCODINGCANONICALIZATION', 'DOCUMENTCOLLECTIONMODELS', 'ONTOLOGIES', 'DICTIONARIES', 'THESAURI', 'QUERYREPRESENTATION', 'QUERYINTENT', 'QUERYLOGANALYSIS', 'QUERYSUGGESTION', 'QUERYREFORMULATION', 'PERSONALIZATION', 'TASKMODELS', 'SEARCHINTERFACES', 'COLLABORATIVESEARCH', 'RANKAGGREGATION', 'PROBABILISTICRETRIEVALMODELS', 'LANGUAGEMODELS', 'SIMILARITYMEASURES', 'LEARNINGRANK', 'COMBINATIONFUSIONFEDERATEDSEARCH', 'INFORMATIONRETRIEVALDIVERSITY', 'TOPKRETRIEVALDATABASES', 'NOVELTYINFORMATIONRETRIEVAL', 'QUESTIONANSWERING', 'DOCUMENTFILTERING', 'RECOMMENDERSYSTEMS', 'INFORMATIONEXTRACTION', 'SENTIMENTANALYSIS', 'EXPERTSEARCH', 'NEARDUPLICATEPLAGIARISMDETECTION', 'CLUSTERINGCLASSIFICATION', 'SUMMARIZATION', 'BUSINESSINTELLIGENCE', 'TESTCOLLECTIONS', 'RELEVANCEASSESSMENT', 'RETRIEVALEFFECTIVENESS', 'RETRIEVALEFFICIENCY', 'PRESENTATIONRETRIEVALRESULTS', 'STRUCTUREDTEXTSEARCH', 'MATHEMATICSRETRIEVAL', 'CHEMICALBIOCHEMICALRETRIEVAL', 'MULTILINGUALCROSSLINGUALRETRIEVAL', 'IMAGESEARCH', 'VIDEOSEARCH', 'SPEECHAUDIOSEARCH', 'MUSICRETRIEVAL', 'ENTERPRISESEARCH', 'DESKTOPSEARCH', 'WEBSOCIALMEDIASEARCH', 'TREEMAPS', 'HYPERBOLICTREES', 'HEATMAPS', 'GRAPHDRAWINGS', 'DENDROGRAMS', 'CLADOGRAMS', 'ELASTICMAPS', 'SCIENTIFICVISUALIZATION', 'VISUALANALYTICS', 'GEOGRAPHICVISUALIZATION', 'INFORMATIONVISUALIZATION', 'VISUALIZATIONTOOLKITS', 'VISUALIZATIONTHEORYCONCEPTSPARADIGMS', 'EMPIRICALSTUDIESVISUALIZATION', 'VISUALIZATIONDESIGNEVALUATIONMETHODS', 'INFORMATIONEXTRACTION', 'MACHINETRANSLATION', 'DISCOURSEDIALOGUEPRAGMATICS', 'NATURALLANGUAGEGENERATION', 'SPEECHRECOGNITION', 'WIKIPEDIABASEDSEMANTICS', 'PHONOLOGYMORPHOLOGY', 'LANGUAGERESOURCES', 'DESCRIPTIONLOGICS', 'SEMANTICNETWORKS', 'NONMONOTONICDEFAULTREASONINGBELIEFREVISION', 'PROBABILISTICREASONING', 'VAGUENESSFUZZYLOGIC', 'CAUSALREASONINGDIAGNOSTICS', 'TEMPORALREASONING', 'COGNITIVEROBOTICS', 'ONTOLOGYENGINEERING', 'LOGICPROGRAMMINGANSWERSETPROGRAMMING', 'SPATIALPHYSICALREASONING', 'REASONINGBELIEFKNOWLEDGE', 'INTERESTPOINTSALIENTREGIONDETECTIONS', 'IMAGESEGMENTATION', 'VIDEOSEGMENTATION', 'SHAPEINFERENCE', 'OBJECTDETECTION', 'OBJECTRECOGNITION', 'OBJECTIDENTIFICATION', 'TRACKING', 'RECONSTRUCTION', 'MATCHING', '2DPCA', 'SHAPEREPRESENTATIONS', 'APPEARANCETEXTUREREPRESENTATIONS', 'HIERARCHICALREPRESENTATIONS', 'RANKING', 'LEARNINGRANK', 'SUPERVISEDLEARNINGCLASSIFICATION', 'SUPERVISEDLEARNINGREGRESSION', 'STRUCTUREDOUTPUTS', 'COSTSENSITIVELEARNING', 'CLUSTERANALYSIS', 'ANOMALYDETECTION', 'MIXTUREMODELING', 'TOPICMODELING', 'SOURCESEPARATION', 'MOTIFDISCOVERY', 'GRAPHEMBEDDING', 'SUPERVISEDDIMESIONALITYREDUCTION', 'SEQUENTIALDECISIONMAKING', 'INVERSEREINFORCEMENTLEARNING', 'APPRENTICESHIPLEARNING', 'MULTIAGENTREINFORCEMENTLEARNING', 'ADVERSARIALLEARNING', 'TRANSFERLEARNING', 'LIFELONGMACHINELEARNING', 'LEARNINGCOVARIATESHIFT', 'BATCHLEARNING', 'ONLINELEARNINGSETTINGS', 'LEARNINGDEMONSTRATIONS', 'LEARNINGCRITIQUES', 'LEARNINGIMPLICITFEEDBACK', 'ACTIVELEARNINGSETTINGS', 'KERNELAPPROACH', 'PARALLELIMPLEMENTATION', 'SPLITTTINGCRITERIA', 'MODELTREES', 'DYNAMIC', 'GAUSSIANPROCESSES', 'KERNELMATRIX', 'KERNELINDEPENDENTCOMPONENTS', 'KERNELBASEDCLUSTERING', 'SELFORGANIZEDMAP', 'EVOLUTIONARYAPPROACH', 'RULEBASEDNETWOKARCHIRTECTURE', 'FUZZYREPRESENTATION', 'EVOLVINGNN', 'ENSEMBLING', 'INDUCTIVELOGICLEARNING', 'STATISTICALRELATIONALLEARNING', 'MAXIMUMLIKELIHOODMODELING', 'MAXIMUMENTROPYMODELING', 'MAXIMUMPOSTERIORIMODELING', 'MIXTUREMODELS', 'LATENTVARIABLEMODELS', 'BAYESIANNETWORKMODELS', 'MARKOVNETWORKMODELS', 'PERCEPTRONALGORITHM', 'TENSORREPRESENTATION', 'NONNEGATIVEMATRIXFACTORIZATION', 'FACTORANALYSIS', '2DPCA', 'SPARSEPCA', 'CANONICALCORRELATIONANALYSIS', 'LATENTDIRICHLETALLOCATION', 'INDEPENDENTCOMPONENTANALYSIS', 'NONLINEARPRINCIPALCOMPONENTS', 'LEASTMODULI', 'NEUROFUZZYAPPROACH', 'INSTANCEBASEDLEARNING', 'MARKOVDECISIONPROCESSES', 'PARTIALLYOBSERVABLEMARKOVDECISIONPROCESSES', 'STOCHASTICGAMES', 'DEEPBELIEFNETWORKS', 'MULTIRESOLUTION', 'SUPPORTVECTORMACHINES', 'VALUEITERATION', 'QLEARNING', 'POLICYITERATION', 'TEMPORALDIFFERENCELEARNING', 'APPROXIMATEDYNAMICPROGRAMMINGMETHODS', 'BOOSTING', 'BAGGING', 'FUSIONCLASSIFIERS', 'SPECTRALCLUSTERING', 'FEATURESELECTION', 'GENERALIZEDEIGENVALUE', 'CROSSVALIDATION']\n"
     ]
    }
   ],
   "source": [
    "print(topics)"
   ]
  },
  {
   "cell_type": "code",
   "execution_count": 28,
   "metadata": {
    "ExecuteTime": {
     "end_time": "2019-04-24T14:36:48.572874Z",
     "start_time": "2019-04-24T14:36:48.554332Z"
    }
   },
   "outputs": [
    {
     "name": "stdout",
     "output_type": "stream",
     "text": [
      "Writing score_ast.py\n"
     ]
    }
   ],
   "source": [
    "%%writefile score_ast.py\n",
    "topics = ['SAMPLECOMPLEXITYGENERALIZATIONBOUNDS', 'BOOLEANFUNCTIONLEARNING', 'UNSUPERVISEDLEARNINGCLUSTERING', 'SUPPORTVECTORMACHINES', 'GAUSSIANPROCESSES', 'MODELLING', 'BOOSTING', 'BAYESIANANALYSIS', 'INDUCTIVEINFERENCE', 'ONLINELEARNINGTHEORY', 'MULTIAGENTLEARNING', 'MODELSLEARNING', 'QUERYLEARNING', 'STRUCTUREDPREDICTION', 'SEQUENTIALDECISIONMAKING', 'INVERSEREINFORCEMENTLEARNING', 'APPRENTICESHIPLEARNING', 'MULTIAGENTREINFORCEMENTLEARNING', 'ADVERSARIALLEARNING', 'ACTIVELEARNING', 'SEMISUPERVISEDLEARNING', 'MARKOVDECISIONPROCESSES', 'REGRETBOUNDS', 'DATAEXCHANGE', 'DATAPROVENANCE', 'DATAMODELING', 'DATABASEQUERYLANGUAGESPRINCIPLES', 'DATABASECONSTRAINTSTHEORY', 'DATABASEINTEROPERABILITY', 'DATASTRUCTURESALGORITHMSDATAMANAGEMENT', 'DATABASEQUERYPROCESSINGOPTIMIZATIONTHEORY', 'DATAINTEGRATION', 'LOGICDATABASES', 'THEORYDATABASEPRIVACYSECURITY', 'INCOMPLETEINCONSISTENTUNCERTAINDATABASES', 'BAYESIANNETWORKS', 'MARKOVNETWORKS', 'FACTORGRAPHS', 'DECISIONDIAGRAMS', 'EQUATIONALMODELS', 'CAUSALNETWORKS', 'STOCHASTICDIFFERENTIALEQUATIONS', 'KERNELDENSITYESTIMATORS', 'SPLINEMODELS', 'BAYESIANNONPARAMETRICMODELS', 'MAXIMUMLIKELIHOODESTIMATION', 'BAYESIANCOMPUTATION', 'COMPUTINGPROBABLEEXPLANATION', 'HYPOTHESISTESTINGCONFIDENCEINTERVALCOMPUTATION', 'QUANTILEREGRESSION', 'MAXMARGINALCOMPUTATION', 'VARIABLEELIMINATION', 'LOOPYBELIEFPROPAGATION', 'VARIATIONALMETHODS', 'EXPECTATIONMAXIMIZATION', 'GIBBSSAMPLING', 'METROPOLISHASTINGSALGORITHM', 'SIMULATEDANNEALING', 'MARKOVCHAINMONTECARLOCONVERGENCEMEASURES', 'SEQUENTIALMONTECARLOMETHODS', 'FACTORIALHMM', 'BOOTSTRAPPING', 'JACKKNIFING', 'RANDOMNUMBERGENERATION', 'PROBABILISTICALGORITHMS', 'QUEUEINGTHEORY', 'CONTINGENCYTABLEANALYSIS', 'ROBUSTREGRESSION', 'TIMESERIESANALYSIS', 'SURVIVALANALYSIS', 'RENEWALTHEORY', 'DIMENSIONALITYREDUCTION', 'CLUSTERANALYSIS', 'STATISTICALGRAPHICS', 'EXPLORATORYDATAANALYSIS', 'MARKOVPROCESSES', 'NONPARAMETRICSTATISTICS', 'DISTRIBUTIONFUNCTIONS', 'MULTIVARIATESTATISTICS', 'RELATIONALDATABASEMODEL', 'ENTITYRELATIONSHIPMODELS', 'HIERARCHICALDATAMODELS', 'NETWORKDATAMODELS', 'PHYSICALDATAMODELS', 'SEMISTRUCTUREDDATA', 'DATASTREAMS', 'DATAPROVENANCE', 'INCOMPLETEDATA', 'TEMPORALDATA', 'UNCERTAINTY', 'INCONSISTENTDATA', 'MULTIDIMENSIONALRANGESEARCH', 'DATASCANS', 'POINTLOOKUPS', 'UNIDIMENSIONALRANGESEARCH', 'PROXIMITYSEARCH', 'DATACOMPRESSION', 'DATAENCRYPTION', 'RECORDBLOCKLAYOUT', 'DBMSENGINEARCHITECTURES', 'QUERYOPTIMIZATION', 'QUERYOPERATORS', 'QUERYPLANNING', 'JOINALGORITHMS', 'DATALOCKING', 'TRANSACTIONLOGGING', 'DATABASERECOVERY', 'RECORDBUFFERMANAGEMENT', 'KEYVALUESTORES', 'MAPREDUCEBASEDSYSTEMS', 'RELATIONALPARALLELDISTRIBUTEDDBMSS', 'TRIGGERSRULES', 'DATABASEVIEWS', 'INTEGRITYCHECKING', 'DISTRIBUTEDDATALOCKING', 'DEADLOCKS', 'DISTRIBUTEDDATABASERECOVERY', 'MAINMEMORYENGINES', 'ONLINEANALYTICALPROCESSINGENGINES', 'STREAMMANAGEMENT', 'STRUCTUREDQUERYLANGUAGE', 'XPATH', 'XQUERY', 'MAPREDUCELANGUAGES', 'CALLLEVELINTERFACES', 'DEDUPLICATION', 'EXTRACTIONTRANSFORMATIONLOADING', 'DATAEXCHANGE', 'DATACLEANING', 'WRAPPERSDATAMINING', 'MEDIATORSDATAINTEGRATION', 'ENTITYRESOLUTION', 'DATAWAREHOUSES', 'FEDERATEDDATABASES', 'DATACLEANING', 'ITEMBASED', 'SCALABLE', 'TYPESASSOCIATIONRULES', 'INTERESTINGNESS', 'PARALLELCOMPUTATION', 'MASSIVEDATACLUSTERING', 'CONSENSUSCLUSTERING', 'FUZZYCLUSTERING', 'ADDITIVECLUSTERING', 'FEATUREWEIGHTCLUSTERING', 'CONCEPTUALCLUSTERING', 'BICLUSTERING', 'NEARESTNEIGHBORSEARCH', 'DATASTREAMMINING', 'GRAPHPARTITIONING', 'FREQUENTGRAPHMINING', 'GRAPHBASEDCONCEPTUALCLUSTERING', 'ANOMALYDETECTION', 'CRITICALNODESDETECTION', 'PROCESSMINING', 'TEXTCATEGORIZATION', 'KEYPHRASEINDEXING', 'DATAMININGTOOLS', 'RULEPATTERNDISCOVERY', 'TRAJECTORYCLUSTERING', 'MARKETGRAPH', 'FORMALCONCEPTANALYSIS', 'SITEWRAPPING', 'DEEPWEB', 'SURFACING', 'SEARCHRESULTSDEDUPLICATION', 'WEBLOGANALYSIS', 'TRAFFICANALYSIS', 'KNOWLEDGEDISCOVERY', 'DOCUMENTSTRUCTURE', 'DOCUMENTTOPICMODELS', 'CONTENTANALYSISFEATURESELECTION', 'DATAENCODINGCANONICALIZATION', 'DOCUMENTCOLLECTIONMODELS', 'ONTOLOGIES', 'DICTIONARIES', 'THESAURI', 'QUERYREPRESENTATION', 'QUERYINTENT', 'QUERYLOGANALYSIS', 'QUERYSUGGESTION', 'QUERYREFORMULATION', 'PERSONALIZATION', 'TASKMODELS', 'SEARCHINTERFACES', 'COLLABORATIVESEARCH', 'RANKAGGREGATION', 'PROBABILISTICRETRIEVALMODELS', 'LANGUAGEMODELS', 'SIMILARITYMEASURES', 'LEARNINGRANK', 'COMBINATIONFUSIONFEDERATEDSEARCH', 'INFORMATIONRETRIEVALDIVERSITY', 'TOPKRETRIEVALDATABASES', 'NOVELTYINFORMATIONRETRIEVAL', 'QUESTIONANSWERING', 'DOCUMENTFILTERING', 'RECOMMENDERSYSTEMS', 'INFORMATIONEXTRACTION', 'SENTIMENTANALYSIS', 'EXPERTSEARCH', 'NEARDUPLICATEPLAGIARISMDETECTION', 'CLUSTERINGCLASSIFICATION', 'SUMMARIZATION', 'BUSINESSINTELLIGENCE', 'TESTCOLLECTIONS', 'RELEVANCEASSESSMENT', 'RETRIEVALEFFECTIVENESS', 'RETRIEVALEFFICIENCY', 'PRESENTATIONRETRIEVALRESULTS', 'STRUCTUREDTEXTSEARCH', 'MATHEMATICSRETRIEVAL', 'CHEMICALBIOCHEMICALRETRIEVAL', 'MULTILINGUALCROSSLINGUALRETRIEVAL', 'IMAGESEARCH', 'VIDEOSEARCH', 'SPEECHAUDIOSEARCH', 'MUSICRETRIEVAL', 'ENTERPRISESEARCH', 'DESKTOPSEARCH', 'WEBSOCIALMEDIASEARCH', 'TREEMAPS', 'HYPERBOLICTREES', 'HEATMAPS', 'GRAPHDRAWINGS', 'DENDROGRAMS', 'CLADOGRAMS', 'ELASTICMAPS', 'SCIENTIFICVISUALIZATION', 'VISUALANALYTICS', 'GEOGRAPHICVISUALIZATION', 'INFORMATIONVISUALIZATION', 'VISUALIZATIONTOOLKITS', 'VISUALIZATIONTHEORYCONCEPTSPARADIGMS', 'EMPIRICALSTUDIESVISUALIZATION', 'VISUALIZATIONDESIGNEVALUATIONMETHODS', 'INFORMATIONEXTRACTION', 'MACHINETRANSLATION', 'DISCOURSEDIALOGUEPRAGMATICS', 'NATURALLANGUAGEGENERATION', 'SPEECHRECOGNITION', 'WIKIPEDIABASEDSEMANTICS', 'PHONOLOGYMORPHOLOGY', 'LANGUAGERESOURCES', 'DESCRIPTIONLOGICS', 'SEMANTICNETWORKS', 'NONMONOTONICDEFAULTREASONINGBELIEFREVISION', 'PROBABILISTICREASONING', 'VAGUENESSFUZZYLOGIC', 'CAUSALREASONINGDIAGNOSTICS', 'TEMPORALREASONING', 'COGNITIVEROBOTICS', 'ONTOLOGYENGINEERING', 'LOGICPROGRAMMINGANSWERSETPROGRAMMING', 'SPATIALPHYSICALREASONING', 'REASONINGBELIEFKNOWLEDGE', 'INTERESTPOINTSALIENTREGIONDETECTIONS', 'IMAGESEGMENTATION', 'VIDEOSEGMENTATION', 'SHAPEINFERENCE', 'OBJECTDETECTION', 'OBJECTRECOGNITION', 'OBJECTIDENTIFICATION', 'TRACKING', 'RECONSTRUCTION', 'MATCHING', '2DPCA', 'SHAPEREPRESENTATIONS', 'APPEARANCETEXTUREREPRESENTATIONS', 'HIERARCHICALREPRESENTATIONS', 'RANKING', 'LEARNINGRANK', 'SUPERVISEDLEARNINGCLASSIFICATION', 'SUPERVISEDLEARNINGREGRESSION', 'STRUCTUREDOUTPUTS', 'COSTSENSITIVELEARNING', 'CLUSTERANALYSIS', 'ANOMALYDETECTION', 'MIXTUREMODELING', 'TOPICMODELING', 'SOURCESEPARATION', 'MOTIFDISCOVERY', 'GRAPHEMBEDDING', 'SUPERVISEDDIMESIONALITYREDUCTION', 'SEQUENTIALDECISIONMAKING', 'INVERSEREINFORCEMENTLEARNING', 'APPRENTICESHIPLEARNING', 'MULTIAGENTREINFORCEMENTLEARNING', 'ADVERSARIALLEARNING', 'TRANSFERLEARNING', 'LIFELONGMACHINELEARNING', 'LEARNINGCOVARIATESHIFT', 'BATCHLEARNING', 'ONLINELEARNINGSETTINGS', 'LEARNINGDEMONSTRATIONS', 'LEARNINGCRITIQUES', 'LEARNINGIMPLICITFEEDBACK', 'ACTIVELEARNINGSETTINGS', 'KERNELAPPROACH', 'PARALLELIMPLEMENTATION', 'SPLITTTINGCRITERIA', 'MODELTREES', 'DYNAMIC', 'GAUSSIANPROCESSES', 'KERNELMATRIX', 'KERNELINDEPENDENTCOMPONENTS', 'KERNELBASEDCLUSTERING', 'SELFORGANIZEDMAP', 'EVOLUTIONARYAPPROACH', 'RULEBASEDNETWOKARCHIRTECTURE', 'FUZZYREPRESENTATION', 'EVOLVINGNN', 'ENSEMBLING', 'INDUCTIVELOGICLEARNING', 'STATISTICALRELATIONALLEARNING', 'MAXIMUMLIKELIHOODMODELING', 'MAXIMUMENTROPYMODELING', 'MAXIMUMPOSTERIORIMODELING', 'MIXTUREMODELS', 'LATENTVARIABLEMODELS', 'BAYESIANNETWORKMODELS', 'MARKOVNETWORKMODELS', 'PERCEPTRONALGORITHM', 'TENSORREPRESENTATION', 'NONNEGATIVEMATRIXFACTORIZATION', 'FACTORANALYSIS', '2DPCA', 'SPARSEPCA', 'CANONICALCORRELATIONANALYSIS', 'LATENTDIRICHLETALLOCATION', 'INDEPENDENTCOMPONENTANALYSIS', 'NONLINEARPRINCIPALCOMPONENTS', 'LEASTMODULI', 'NEUROFUZZYAPPROACH', 'INSTANCEBASEDLEARNING', 'MARKOVDECISIONPROCESSES', 'PARTIALLYOBSERVABLEMARKOVDECISIONPROCESSES', 'STOCHASTICGAMES', 'DEEPBELIEFNETWORKS', 'MULTIRESOLUTION', 'SUPPORTVECTORMACHINES', 'VALUEITERATION', 'QLEARNING', 'POLICYITERATION', 'TEMPORALDIFFERENCELEARNING', 'APPROXIMATEDYNAMICPROGRAMMINGMETHODS', 'BOOSTING', 'BAGGING', 'FUSIONCLASSIFIERS', 'SPECTRALCLUSTERING', 'FEATURESELECTION', 'GENERALIZEDEIGENVALUE', 'CROSSVALIDATION']\n",
    "\n",
    "def score(data):\n",
    "    i, ast = data\n",
    "    return i, [ast.score(t) for t in topics]\n",
    "    "
   ]
  },
  {
   "cell_type": "code",
   "execution_count": 29,
   "metadata": {},
   "outputs": [],
   "source": [
    "from tqdm import tqdm_notebook as tqdm"
   ]
  },
  {
   "cell_type": "code",
   "execution_count": 33,
   "metadata": {
    "ExecuteTime": {
     "end_time": "2019-04-24T14:51:04.031701Z",
     "start_time": "2019-04-24T14:36:54.344241Z"
    }
   },
   "outputs": [
    {
     "data": {
      "application/vnd.jupyter.widget-view+json": {
       "model_id": "7470482e24f34ba8b38288e079589b01",
       "version_major": 2,
       "version_minor": 0
      },
      "text/plain": [
       "HBox(children=(IntProgress(value=0, max=26799), HTML(value='')))"
      ]
     },
     "metadata": {},
     "output_type": "display_data"
    },
    {
     "data": {
      "application/vnd.jupyter.widget-view+json": {
       "model_id": "7ebf859e90694aec92b3e92957d58412",
       "version_major": 2,
       "version_minor": 0
      },
      "text/plain": [
       "HBox(children=(IntProgress(value=0, max=5000), HTML(value='')))"
      ]
     },
     "metadata": {},
     "output_type": "display_data"
    },
    {
     "data": {
      "application/vnd.jupyter.widget-view+json": {
       "model_id": "84b0405c113a45df8fa697b517a7098a",
       "version_major": 2,
       "version_minor": 0
      },
      "text/plain": [
       "HBox(children=(IntProgress(value=0, max=5000), HTML(value='')))"
      ]
     },
     "metadata": {},
     "output_type": "display_data"
    },
    {
     "data": {
      "application/vnd.jupyter.widget-view+json": {
       "model_id": "3f753354c96d40aaac2c4989b0d4ad51",
       "version_major": 2,
       "version_minor": 0
      },
      "text/plain": [
       "HBox(children=(IntProgress(value=0, max=5000), HTML(value='')))"
      ]
     },
     "metadata": {},
     "output_type": "display_data"
    },
    {
     "data": {
      "application/vnd.jupyter.widget-view+json": {
       "model_id": "4ab464fdc1de4231a5a9135e28342eaa",
       "version_major": 2,
       "version_minor": 0
      },
      "text/plain": [
       "HBox(children=(IntProgress(value=0, max=5000), HTML(value='')))"
      ]
     },
     "metadata": {},
     "output_type": "display_data"
    },
    {
     "data": {
      "application/vnd.jupyter.widget-view+json": {
       "model_id": "444fc253af6b4041afa4281579361ea6",
       "version_major": 2,
       "version_minor": 0
      },
      "text/plain": [
       "HBox(children=(IntProgress(value=0, max=5000), HTML(value='')))"
      ]
     },
     "metadata": {},
     "output_type": "display_data"
    },
    {
     "data": {
      "application/vnd.jupyter.widget-view+json": {
       "model_id": "7488b0a4b6c04539813c142d67f04347",
       "version_major": 2,
       "version_minor": 0
      },
      "text/plain": [
       "HBox(children=(IntProgress(value=0, max=1799), HTML(value='')))"
      ]
     },
     "metadata": {},
     "output_type": "display_data"
    }
   ],
   "source": [
    "import score_ast\n",
    "reload(score_ast)\n",
    "\n",
    "with shelve.open('asts_relevant') as asts,\\\n",
    "     shelve.open('asts_relevant_topic_scores') as topic_score_shelf,\\\n",
    "     tqdm(total=len(texts)) as pbar:\n",
    "    \n",
    "    for key in asts:\n",
    "        scores = []\n",
    "        it = ((i, ast) for i, ast in asts[key])\n",
    "        executor = execute(score_ast.score, it, n_jobs=50)\n",
    "        for result in tqdm(executor, total=len(asts[key])):\n",
    "            scores.append(result)\n",
    "            pbar.update()\n",
    "            \n",
    "        topic_score_shelf[key] = scores"
   ]
  },
  {
   "cell_type": "markdown",
   "metadata": {},
   "source": [
    "---"
   ]
  },
  {
   "cell_type": "markdown",
   "metadata": {},
   "source": [
    "Check EAST"
   ]
  },
  {
   "cell_type": "code",
   "execution_count": 133,
   "metadata": {},
   "outputs": [],
   "source": [
    "import build_ast\n",
    "import text_util\n",
    "import east"
   ]
  },
  {
   "cell_type": "code",
   "execution_count": 134,
   "metadata": {},
   "outputs": [],
   "source": [
    "txt = 'Clustering is an essential data mining tool that aims to discover inherent cluster structure in data. For most applications, applying clustering is only appropriate when cluster structure is present. As such, the study of clusterability, which evaluates whether data possesses such structure, is an integral part of cluster analysis. However, methods for evaluating clusterability vary radically, making it challenging to select a suitable measure. In this paper, we perform an extensive comparison of measures of clusterability and provide guidelines that clustering users can reference to select suitable measures for their applications.'\n",
    "txt = text_util.preprocess_text( txt)"
   ]
  },
  {
   "cell_type": "code",
   "execution_count": 135,
   "metadata": {
    "scrolled": true
   },
   "outputs": [
    {
     "data": {
      "text/plain": [
       "['CLUSTERINGESSENTIALDATAMININGTOOL',\n",
       " 'AIMSDISCOVERINHERENTCLUSTERSTRUCTURE',\n",
       " 'DATAAPPLICATIONSAPPLYINGCLUSTERINGAPPROPRIATE',\n",
       " 'CLUSTERSTRUCTUREPRESENTSTUDYCLUSTERABILITY',\n",
       " 'EVALUATESWHETHERDATAPOSSESSESSTRUCTURE',\n",
       " 'INTEGRALPARTCLUSTERANALYSISHOWEVER',\n",
       " 'METHODSEVALUATINGCLUSTERABILITYVARYRADICALLY',\n",
       " 'MAKINGCHALLENGINGSELECTSUITABLEMEASURE',\n",
       " 'PAPERPERFORMEXTENSIVECOMPARISONMEASURES',\n",
       " 'CLUSTERABILITYPROVIDEGUIDELINESCLUSTERINGUSERS',\n",
       " 'REFERENCESELECTSUITABLEMEASURESAPPLICATIONS']"
      ]
     },
     "execution_count": 135,
     "metadata": {},
     "output_type": "execute_result"
    }
   ],
   "source": [
    "txt = east.utils.text_to_strings_collection(txt, words=5)\n",
    "txt"
   ]
  },
  {
   "cell_type": "code",
   "execution_count": 136,
   "metadata": {
    "scrolled": true
   },
   "outputs": [],
   "source": [
    "ast = east.asts.base.AST.get_ast(txt, 'easa')"
   ]
  },
  {
   "cell_type": "code",
   "execution_count": 137,
   "metadata": {},
   "outputs": [
    {
     "data": {
      "text/plain": [
       "(0.22918930784828406,\n",
       " {'FENCE': 0.25228310502283113,\n",
       "  'ENCE': 0.35051670271569324,\n",
       "  'NCE': 0.3652276186522762,\n",
       "  'CE': 0.04778212654924974,\n",
       "  'E': 0.13013698630136994})"
      ]
     },
     "execution_count": 137,
     "metadata": {},
     "output_type": "execute_result"
    }
   ],
   "source": [
    "ast.score(east.utils.prepare_text('fence'), return_suffix_scores=True)"
   ]
  },
  {
   "cell_type": "code",
   "execution_count": 138,
   "metadata": {},
   "outputs": [
    {
     "data": {
      "text/plain": [
       "(0.16615453541413477,\n",
       " {'SINCE': 0.072342571944356,\n",
       "  'INCE': 0.21528337362342187,\n",
       "  'NCE': 0.3652276186522762,\n",
       "  'CE': 0.04778212654924974,\n",
       "  'E': 0.13013698630136994})"
      ]
     },
     "execution_count": 138,
     "metadata": {},
     "output_type": "execute_result"
    }
   ],
   "source": [
    "ast.score(east.utils.prepare_text('SINCE'), return_suffix_scores=True)"
   ]
  }
 ],
 "metadata": {
  "kernelspec": {
   "display_name": "Python 3",
   "language": "python",
   "name": "python3"
  },
  "language_info": {
   "codemirror_mode": {
    "name": "ipython",
    "version": 3
   },
   "file_extension": ".py",
   "mimetype": "text/x-python",
   "name": "python",
   "nbconvert_exporter": "python",
   "pygments_lexer": "ipython3",
   "version": "3.7.3"
  },
  "toc": {
   "base_numbering": 1,
   "nav_menu": {},
   "number_sections": true,
   "sideBar": true,
   "skip_h1_title": false,
   "title_cell": "Table of Contents",
   "title_sidebar": "Contents",
   "toc_cell": false,
   "toc_position": {},
   "toc_section_display": true,
   "toc_window_display": false
  }
 },
 "nbformat": 4,
 "nbformat_minor": 2
}
