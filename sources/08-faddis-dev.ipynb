{
 "cells": [
  {
   "cell_type": "code",
   "execution_count": 53,
   "metadata": {},
   "outputs": [],
   "source": [
    "%run lib.py"
   ]
  },
  {
   "cell_type": "code",
   "execution_count": 54,
   "metadata": {},
   "outputs": [],
   "source": [
    "np.set_printoptions(edgeitems=10, linewidth=80)"
   ]
  },
  {
   "cell_type": "markdown",
   "metadata": {},
   "source": [
    "---"
   ]
  },
  {
   "cell_type": "code",
   "execution_count": 55,
   "metadata": {},
   "outputs": [],
   "source": [
    "sim_raw = joblib.load('data/sim.pickle')"
   ]
  },
  {
   "cell_type": "raw",
   "metadata": {},
   "source": [
    "np.savetxt('data/topic_corelevance.csv', sim_raw, fmt='%.8f', delimiter=',')"
   ]
  },
  {
   "cell_type": "code",
   "execution_count": 56,
   "metadata": {},
   "outputs": [],
   "source": [
    "sim = joblib.load('data/sim_lapin.pickle')"
   ]
  },
  {
   "cell_type": "raw",
   "metadata": {},
   "source": [
    "np.savetxt('data/topic_corelevance_lapin.csv', sim, fmt='%.8f', delimiter=',')"
   ]
  },
  {
   "cell_type": "code",
   "execution_count": 57,
   "metadata": {},
   "outputs": [],
   "source": [
    "w, v = np.linalg.eig(sim)"
   ]
  },
  {
   "cell_type": "code",
   "execution_count": 58,
   "metadata": {},
   "outputs": [],
   "source": [
    "max_w = np.argmax(w)"
   ]
  },
  {
   "cell_type": "code",
   "execution_count": 59,
   "metadata": {},
   "outputs": [],
   "source": [
    "max_v = v[:, max_w]"
   ]
  },
  {
   "cell_type": "code",
   "execution_count": 60,
   "metadata": {},
   "outputs": [],
   "source": [
    "max_v = max_v.clip(0, 1)"
   ]
  },
  {
   "cell_type": "code",
   "execution_count": 61,
   "metadata": {},
   "outputs": [
    {
     "data": {
      "image/png": "[encoded data removed]",
      "text/plain": [
       "<Figure size 432x288 with 1 Axes>"
      ]
     },
     "metadata": {
      "needs_background": "light"
     },
     "output_type": "display_data"
    }
   ],
   "source": [
    "plt.hist(max_v);"
   ]
  },
  {
   "cell_type": "code",
   "execution_count": 62,
   "metadata": {},
   "outputs": [],
   "source": [
    "max_v_norm = max_v / np.sqrt((max_v**2).sum())"
   ]
  },
  {
   "cell_type": "code",
   "execution_count": 63,
   "metadata": {},
   "outputs": [
    {
     "data": {
      "text/plain": [
       "1.0"
      ]
     },
     "execution_count": 63,
     "metadata": {},
     "output_type": "execute_result"
    }
   ],
   "source": [
    "np.linalg.norm(max_v_norm)"
   ]
  },
  {
   "cell_type": "code",
   "execution_count": 64,
   "metadata": {},
   "outputs": [],
   "source": [
    "u = max_v_norm"
   ]
  },
  {
   "cell_type": "code",
   "execution_count": 65,
   "metadata": {},
   "outputs": [],
   "source": [
    "xi = u.T.dot(sim).dot(u) / (u.T.dot(u) ** 2)\n",
    "mu = np.sqrt(xi)"
   ]
  },
  {
   "cell_type": "code",
   "execution_count": 66,
   "metadata": {},
   "outputs": [
    {
     "data": {
      "text/plain": [
       "0.9353055232085904"
      ]
     },
     "execution_count": 66,
     "metadata": {},
     "output_type": "execute_result"
    }
   ],
   "source": [
    "mu"
   ]
  },
  {
   "cell_type": "markdown",
   "metadata": {},
   "source": [
    "---\n",
    "Sample data"
   ]
  },
  {
   "cell_type": "code",
   "execution_count": 67,
   "metadata": {},
   "outputs": [],
   "source": [
    "sample_scores = np.array(\n",
    "    [[ 0.6,  0.4,  0. ,  0. ,  0. ],\n",
    "     [ 0. ,  0. ,  0.2,  0.3,  0.5],\n",
    "     [ 0. ,  0.2,  0.4,  0.4,  0. ],\n",
    "     [ 0.2,  0.2,  0.2,  0.2,  0.2]]\n",
    ")"
   ]
  },
  {
   "cell_type": "code",
   "execution_count": 68,
   "metadata": {},
   "outputs": [
    {
     "data": {
      "text/plain": [
       "array([[ 0.6,  0.4,  0. ,  0. ,  0. ],\n",
       "       [ 0. ,  0. ,  0.2,  0.3,  0.5],\n",
       "       [ 0. ,  0.2,  0.4,  0.4,  0. ],\n",
       "       [ 0.2,  0.2,  0.2,  0.2,  0.2]])"
      ]
     },
     "execution_count": 68,
     "metadata": {},
     "output_type": "execute_result"
    }
   ],
   "source": [
    "sample_scores"
   ]
  },
  {
   "cell_type": "code",
   "execution_count": 69,
   "metadata": {},
   "outputs": [
    {
     "data": {
      "text/plain": [
       "array([ 0.4,  0.6,  0.6,  1. ])"
      ]
     },
     "execution_count": 69,
     "metadata": {},
     "output_type": "execute_result"
    }
   ],
   "source": [
    "relevance_weights = (sample_scores > 0).sum(axis=1)\n",
    "relevance_weights = relevance_weights / relevance_weights.max()\n",
    "relevance_weights"
   ]
  },
  {
   "cell_type": "code",
   "execution_count": null,
   "metadata": {},
   "outputs": [],
   "source": []
  },
  {
   "cell_type": "code",
   "execution_count": 70,
   "metadata": {},
   "outputs": [],
   "source": [
    "sample_scores_wt = sample_scores*np.sqrt(relevance_weights[:, None])\n"
   ]
  },
  {
   "cell_type": "code",
   "execution_count": 71,
   "metadata": {},
   "outputs": [
    {
     "data": {
      "text/plain": [
       "array([[ 0.184,  0.136,  0.04 ,  0.04 ,  0.04 ],\n",
       "       [ 0.136,  0.128,  0.088,  0.088,  0.04 ],\n",
       "       [ 0.04 ,  0.088,  0.16 ,  0.172,  0.1  ],\n",
       "       [ 0.04 ,  0.088,  0.172,  0.19 ,  0.13 ],\n",
       "       [ 0.04 ,  0.04 ,  0.1  ,  0.13 ,  0.19 ]])"
      ]
     },
     "execution_count": 71,
     "metadata": {},
     "output_type": "execute_result"
    }
   ],
   "source": [
    "sample_sim = np.dot(sample_scores_wt.T, sample_scores_wt)\n",
    "sample_sim"
   ]
  },
  {
   "cell_type": "code",
   "execution_count": 72,
   "metadata": {},
   "outputs": [
    {
     "data": {
      "text/plain": [
       "True"
      ]
     },
     "execution_count": 72,
     "metadata": {},
     "output_type": "execute_result"
    }
   ],
   "source": [
    "np.array_equal(sample_sim, sample_sim.T)"
   ]
  },
  {
   "cell_type": "code",
   "execution_count": 21,
   "metadata": {},
   "outputs": [
    {
     "data": {
      "image/png": "[encoded data removed]",
      "text/plain": [
       "<Figure size 432x288 with 1 Axes>"
      ]
     },
     "metadata": {
      "needs_background": "light"
     },
     "output_type": "display_data"
    }
   ],
   "source": [
    "plt.imshow(sample_sim, cmap='Greys');"
   ]
  },
  {
   "cell_type": "markdown",
   "metadata": {},
   "source": [
    "---\n",
    "LAPIN"
   ]
  },
  {
   "cell_type": "code",
   "execution_count": 73,
   "metadata": {},
   "outputs": [],
   "source": [
    "from lapin import LapinTransformer"
   ]
  },
  {
   "cell_type": "code",
   "execution_count": 74,
   "metadata": {},
   "outputs": [],
   "source": [
    "t = LapinTransformer(sample_sim)\n",
    "Lp = t.Lp"
   ]
  },
  {
   "cell_type": "code",
   "execution_count": 24,
   "metadata": {},
   "outputs": [
    {
     "data": {
      "image/png": "[encoded data removed]",
      "text/plain": [
       "<Figure size 432x288 with 1 Axes>"
      ]
     },
     "metadata": {
      "needs_background": "light"
     },
     "output_type": "display_data"
    }
   ],
   "source": [
    "plt.imshow(Lp, cmap='Greys');"
   ]
  },
  {
   "cell_type": "markdown",
   "metadata": {},
   "source": [
    "---\n",
    "\n",
    "FADDIS"
   ]
  },
  {
   "cell_type": "code",
   "execution_count": 26,
   "metadata": {},
   "outputs": [],
   "source": [
    "from faddis import FADDIS"
   ]
  },
  {
   "cell_type": "code",
   "execution_count": 27,
   "metadata": {},
   "outputs": [],
   "source": [
    "import logging\n",
    "logging.basicConfig(level='INFO')\n",
    "logging.getLogger('FADDIS').setLevel('INFO')"
   ]
  },
  {
   "cell_type": "code",
   "execution_count": 28,
   "metadata": {
    "scrolled": false
   },
   "outputs": [
    {
     "name": "stderr",
     "output_type": "stream",
     "text": [
      "INFO:FADDIS:i = 0, xi = 0.7924, sqrt(xi) = 0.8902\n",
      "INFO:FADDIS:E = 2.3951\n",
      "INFO:FADDIS:i = 1, xi = 0.6106, sqrt(xi) = 0.7814\n",
      "INFO:FADDIS:E = 2.0222\n",
      "INFO:FADDIS:i = 2, xi = 0.4672, sqrt(xi) = 0.6835\n",
      "INFO:FADDIS:E = 1.8039\n",
      "INFO:FADDIS:i = 3, xi = 0.1622, sqrt(xi) = 0.4027\n",
      "INFO:FADDIS:E = 1.7776\n",
      "INFO:FADDIS:i = 4, xi = 0.1659, sqrt(xi) = 0.4073\n",
      "INFO:FADDIS:E = 1.7501\n",
      "INFO:FADDIS:i = 5, xi = 0.1669, sqrt(xi) = 0.4085\n",
      "INFO:FADDIS:E = 1.7223\n",
      "INFO:FADDIS:i = 6, xi = 0.3111, sqrt(xi) = 0.5578\n",
      "INFO:FADDIS:E = 1.6255\n",
      "INFO:FADDIS:xi < 0 -> break\n"
     ]
    }
   ],
   "source": [
    "f = FADDIS(10)\n",
    "clu, intens,contr = f.predict(Lp)"
   ]
  },
  {
   "cell_type": "code",
   "execution_count": 29,
   "metadata": {},
   "outputs": [
    {
     "data": {
      "text/plain": [
       "20.0"
      ]
     },
     "execution_count": 29,
     "metadata": {},
     "output_type": "execute_result"
    }
   ],
   "source": [
    "1/Lp.shape[0] *100"
   ]
  },
  {
   "cell_type": "code",
   "execution_count": 30,
   "metadata": {},
   "outputs": [
    {
     "data": {
      "text/plain": [
       "array([[ 0.7668,  0.6419,  0.    ,  0.    ,  0.    ],\n",
       "       [ 0.    ,  0.    ,  0.0345,  0.3546,  0.9344]])"
      ]
     },
     "execution_count": 30,
     "metadata": {},
     "output_type": "execute_result"
    }
   ],
   "source": [
    "clu[:2]"
   ]
  },
  {
   "cell_type": "markdown",
   "metadata": {},
   "source": [
    "---\n",
    "Step by step"
   ]
  },
  {
   "cell_type": "code",
   "execution_count": 31,
   "metadata": {},
   "outputs": [],
   "source": [
    "W = Lp.copy()"
   ]
  },
  {
   "cell_type": "code",
   "execution_count": 32,
   "metadata": {},
   "outputs": [
    {
     "name": "stdout",
     "output_type": "stream",
     "text": [
      "[ 0.      1.2016  0.7967  0.6721  0.7019]\n",
      "[[-0.3827  0.6206 -0.2625 -0.614  -0.15  ]\n",
      " [-0.4487  0.5195  0.199   0.6756  0.1808]\n",
      " [-0.4784 -0.2987  0.5217 -0.0714 -0.6362]\n",
      " [-0.496  -0.3554  0.1715 -0.2977  0.7139]\n",
      " [-0.4211 -0.3597 -0.7681  0.2699 -0.1746]]\n",
      "1\n",
      "[ 0.6206  0.5195 -0.2987 -0.3554 -0.3597]\n"
     ]
    }
   ],
   "source": [
    "\n",
    "w, v = np.linalg.eig(W)\n",
    "argmax_w = np.argmax(w)\n",
    "print(w,)\n",
    "print(v)\n",
    "print(argmax_w)\n",
    "max_v = v[:, argmax_w]\n",
    "print(max_v)"
   ]
  },
  {
   "cell_type": "code",
   "execution_count": 33,
   "metadata": {},
   "outputs": [
    {
     "data": {
      "text/plain": [
       "array([ 0.6206,  0.5195, -0.2987, -0.3554, -0.3597])"
      ]
     },
     "execution_count": 33,
     "metadata": {},
     "output_type": "execute_result"
    }
   ],
   "source": [
    "max_v_normed = max_v / np.sqrt((max_v**2).sum())\n",
    "max_v_normed"
   ]
  },
  {
   "cell_type": "code",
   "execution_count": 34,
   "metadata": {},
   "outputs": [
    {
     "data": {
      "text/plain": [
       "array([[ 0.7668],\n",
       "       [ 0.6419],\n",
       "       [ 0.    ],\n",
       "       [ 0.    ],\n",
       "       [ 0.    ]])"
      ]
     },
     "execution_count": 34,
     "metadata": {},
     "output_type": "execute_result"
    }
   ],
   "source": [
    "u = max_v_normed.clip(0, 1).reshape(-1, 1)\n",
    "u = u / np.sqrt((u**2).sum())\n",
    "u"
   ]
  },
  {
   "cell_type": "code",
   "execution_count": null,
   "metadata": {},
   "outputs": [],
   "source": []
  },
  {
   "cell_type": "code",
   "execution_count": 35,
   "metadata": {},
   "outputs": [
    {
     "data": {
      "text/plain": [
       "array([[ 0.7924]])"
      ]
     },
     "execution_count": 35,
     "metadata": {},
     "output_type": "execute_result"
    }
   ],
   "source": [
    "xi = u.T.dot(W).dot(u) / (u.T.dot(u) ** 2)\n",
    "xi"
   ]
  },
  {
   "cell_type": "code",
   "execution_count": 36,
   "metadata": {},
   "outputs": [
    {
     "data": {
      "text/plain": [
       "array([[ 0.6279]])"
      ]
     },
     "execution_count": 36,
     "metadata": {},
     "output_type": "execute_result"
    }
   ],
   "source": [
    "g = (xi * u.T.dot(u)) ** 2\n",
    "g"
   ]
  },
  {
   "cell_type": "code",
   "execution_count": 37,
   "metadata": {},
   "outputs": [
    {
     "data": {
      "text/plain": [
       "array([[ 0.4659,  0.39  ,  0.    ,  0.    ,  0.    ],\n",
       "       [ 0.39  ,  0.3265,  0.    ,  0.    ,  0.    ],\n",
       "       [ 0.    ,  0.    ,  0.    ,  0.    ,  0.    ],\n",
       "       [ 0.    ,  0.    ,  0.    ,  0.    ,  0.    ],\n",
       "       [ 0.    ,  0.    ,  0.    ,  0.    ,  0.    ]])"
      ]
     },
     "execution_count": 37,
     "metadata": {},
     "output_type": "execute_result"
    }
   ],
   "source": [
    "xi * u.dot(u.T)"
   ]
  },
  {
   "cell_type": "code",
   "execution_count": 38,
   "metadata": {},
   "outputs": [],
   "source": [
    "W -= xi * u.dot(u.T)"
   ]
  },
  {
   "cell_type": "markdown",
   "metadata": {},
   "source": [
    "---\n",
    "Zachary karate club"
   ]
  },
  {
   "cell_type": "code",
   "execution_count": null,
   "metadata": {},
   "outputs": [],
   "source": [
    "zachary_ = np.loadtxt('skar.dat')"
   ]
  },
  {
   "cell_type": "code",
   "execution_count": null,
   "metadata": {},
   "outputs": [],
   "source": [
    "zachary_.shape"
   ]
  },
  {
   "cell_type": "code",
   "execution_count": 56,
   "metadata": {},
   "outputs": [],
   "source": [
    "zachary = np.loadtxt('zachary.dat.txt')[:34]"
   ]
  },
  {
   "cell_type": "code",
   "execution_count": 57,
   "metadata": {},
   "outputs": [
    {
     "data": {
      "text/plain": [
       "<matplotlib.image.AxesImage at 0x1dd5224c550>"
      ]
     },
     "execution_count": 57,
     "metadata": {},
     "output_type": "execute_result"
    },
    {
     "data": {
      "image/png": "[encoded data removed]",
      "text/plain": [
       "<Figure size 432x288 with 1 Axes>"
      ]
     },
     "metadata": {
      "needs_background": "light"
     },
     "output_type": "display_data"
    }
   ],
   "source": [
    "plt.imshow(zachary_, cmap='Greys')"
   ]
  },
  {
   "cell_type": "code",
   "execution_count": 58,
   "metadata": {},
   "outputs": [],
   "source": [
    "zachary = zachary_"
   ]
  },
  {
   "cell_type": "code",
   "execution_count": 59,
   "metadata": {},
   "outputs": [],
   "source": [
    "zachary[np.eye(*zachary.shape, dtype=bool)] = 1"
   ]
  },
  {
   "cell_type": "code",
   "execution_count": 60,
   "metadata": {},
   "outputs": [
    {
     "data": {
      "text/plain": [
       "0"
      ]
     },
     "execution_count": 60,
     "metadata": {},
     "output_type": "execute_result"
    }
   ],
   "source": [
    "np.linalg.eig(zachary)[0].real.argmax()"
   ]
  },
  {
   "cell_type": "code",
   "execution_count": 61,
   "metadata": {},
   "outputs": [
    {
     "data": {
      "text/plain": [
       "array([-0.3555, -0.266 , -0.3172, -0.2112, -0.076 , -0.0795, -0.0795,\n",
       "       -0.171 , -0.2274, -0.1027, -0.076 , -0.0529, -0.0843, -0.2265,\n",
       "       -0.1014, -0.1014, -0.0236, -0.0924, -0.1014, -0.1479, -0.1014,\n",
       "       -0.0924, -0.1014, -0.1501, -0.0571, -0.0592, -0.0756, -0.1335,\n",
       "       -0.1311, -0.135 , -0.1748, -0.191 , -0.3086, -0.3734])"
      ]
     },
     "execution_count": 61,
     "metadata": {},
     "output_type": "execute_result"
    }
   ],
   "source": [
    "np.linalg.eig(zachary)[1][:, 0].real"
   ]
  },
  {
   "cell_type": "code",
   "execution_count": null,
   "metadata": {},
   "outputs": [],
   "source": []
  },
  {
   "cell_type": "code",
   "execution_count": 62,
   "metadata": {
    "scrolled": true
   },
   "outputs": [
    {
     "name": "stderr",
     "output_type": "stream",
     "text": [
      "INFO:FADDIS:i = 0, xi = 7.7257, sqrt(xi) = 2.7795\n",
      "INFO:FADDIS:E = 130.3136\n",
      "INFO:FADDIS:i = 1, xi = 3.1796, sqrt(xi) = 1.7831\n",
      "INFO:FADDIS:E = 120.2037\n",
      "INFO:FADDIS:i = 2, xi = 3.1517, sqrt(xi) = 1.7753\n",
      "INFO:FADDIS:E = 110.2704\n",
      "INFO:FADDIS:i = 3, xi = 2.7202, sqrt(xi) = 1.6493\n",
      "INFO:FADDIS:E = 102.8707\n",
      "INFO:FADDIS:i = 4, xi = 2.3241, sqrt(xi) = 1.5245\n",
      "INFO:FADDIS:E = 97.4693\n"
     ]
    }
   ],
   "source": [
    "clu, intns, contr = FADDIS(5).predict(zachary)"
   ]
  },
  {
   "cell_type": "code",
   "execution_count": 63,
   "metadata": {},
   "outputs": [
    {
     "data": {
      "text/plain": [
       "array([[ 10.6807,   1.8091,   1.7775,   1.3242,   0.9666]])"
      ]
     },
     "execution_count": 63,
     "metadata": {},
     "output_type": "execute_result"
    }
   ],
   "source": [
    "contr * len(zachary)"
   ]
  },
  {
   "cell_type": "code",
   "execution_count": 64,
   "metadata": {
    "scrolled": true
   },
   "outputs": [
    {
     "data": {
      "text/plain": [
       "array([[ 0.5432,  0.    ,  0.2097,  0.0232],\n",
       "       [ 0.3776,  0.    ,  0.    ,  0.0036],\n",
       "       [ 0.1842,  0.    ,  0.    ,  0.1272],\n",
       "       [ 0.3552,  0.    ,  0.    ,  0.1089],\n",
       "       [ 0.188 ,  0.    ,  0.3764,  0.    ],\n",
       "       [ 0.2045,  0.    ,  0.4953,  0.    ],\n",
       "       [ 0.2045,  0.    ,  0.4953,  0.    ],\n",
       "       [ 0.2934,  0.    ,  0.    ,  0.0888],\n",
       "       [ 0.    ,  0.049 ,  0.    ,  0.    ],\n",
       "       [ 0.    ,  0.0375,  0.    ,  0.    ],\n",
       "       [ 0.188 ,  0.    ,  0.3764,  0.    ],\n",
       "       [ 0.1091,  0.    ,  0.0744,  0.0038],\n",
       "       [ 0.1805,  0.    ,  0.    ,  0.0438],\n",
       "       [ 0.1888,  0.    ,  0.    ,  0.0358],\n",
       "       [ 0.    ,  0.2039,  0.0077,  0.    ],\n",
       "       [ 0.    ,  0.2039,  0.0077,  0.    ],\n",
       "       [ 0.0822,  0.0061,  0.3429,  0.    ],\n",
       "       [ 0.185 ,  0.    ,  0.    ,  0.    ],\n",
       "       [ 0.    ,  0.2039,  0.0077,  0.    ],\n",
       "       [ 0.0805,  0.    ,  0.    ,  0.    ],\n",
       "       [ 0.    ,  0.2039,  0.0077,  0.    ],\n",
       "       [ 0.185 ,  0.    ,  0.    ,  0.    ],\n",
       "       [ 0.    ,  0.2039,  0.0077,  0.    ],\n",
       "       [ 0.    ,  0.3282,  0.0506,  0.2246],\n",
       "       [ 0.    ,  0.0758,  0.1   ,  0.5591],\n",
       "       [ 0.    ,  0.1165,  0.1186,  0.5262],\n",
       "       [ 0.    ,  0.1813,  0.0124,  0.    ],\n",
       "       [ 0.    ,  0.1283,  0.    ,  0.3415],\n",
       "       [ 0.    ,  0.0633,  0.    ,  0.1769],\n",
       "       [ 0.    ,  0.3209,  0.0284,  0.    ],\n",
       "       [ 0.    ,  0.1107,  0.    ,  0.    ],\n",
       "       [ 0.    ,  0.1512,  0.176 ,  0.4153],\n",
       "       [ 0.    ,  0.4552,  0.003 ,  0.    ],\n",
       "       [ 0.    ,  0.5126,  0.    ,  0.    ]])"
      ]
     },
     "execution_count": 64,
     "metadata": {},
     "output_type": "execute_result"
    }
   ],
   "source": [
    "clu[1:5].T"
   ]
  }
 ],
 "metadata": {
  "kernelspec": {
   "display_name": "Python 3",
   "language": "python",
   "name": "python3"
  },
  "language_info": {
   "codemirror_mode": {
    "name": "ipython",
    "version": 3
   },
   "file_extension": ".py",
   "mimetype": "text/x-python",
   "name": "python",
   "nbconvert_exporter": "python",
   "pygments_lexer": "ipython3",
   "version": "3.7.3"
  },
  "toc": {
   "base_numbering": 1,
   "nav_menu": {},
   "number_sections": true,
   "sideBar": true,
   "skip_h1_title": false,
   "title_cell": "Table of Contents",
   "title_sidebar": "Contents",
   "toc_cell": false,
   "toc_position": {},
   "toc_section_display": true,
   "toc_window_display": false
  }
 },
 "nbformat": 4,
 "nbformat_minor": 2
}
