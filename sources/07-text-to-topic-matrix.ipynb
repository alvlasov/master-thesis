{
 "cells": [
  {
   "cell_type": "code",
   "execution_count": 1,
   "metadata": {},
   "outputs": [],
   "source": [
    "%run lib.py"
   ]
  },
  {
   "cell_type": "code",
   "execution_count": 2,
   "metadata": {},
   "outputs": [],
   "source": [
    "import build_ast\n",
    "import text_util"
   ]
  },
  {
   "cell_type": "markdown",
   "metadata": {},
   "source": [
    "# load text"
   ]
  },
  {
   "cell_type": "code",
   "execution_count": 25,
   "metadata": {},
   "outputs": [],
   "source": [
    "ds_tax = pd.read_csv('data/ds_taxonomy_parsed_full.csv')\n",
    "leaves = ds_tax.loc[ds_tax['isleaf'], 'label'].values"
   ]
  },
  {
   "cell_type": "code",
   "execution_count": 28,
   "metadata": {},
   "outputs": [],
   "source": [
    "score_list = []\n",
    "with shelve.open('asts_relevant_topic_scores') as scores:\n",
    "    for k in scores:\n",
    "        score_list.append(scores[k])"
   ]
  },
  {
   "cell_type": "code",
   "execution_count": 29,
   "metadata": {},
   "outputs": [],
   "source": [
    "score_list_full = np.array(sum(score_list, []))\n",
    "del score_list"
   ]
  },
  {
   "cell_type": "code",
   "execution_count": 30,
   "metadata": {},
   "outputs": [],
   "source": [
    "indices = score_list_full[:, 0].astype(int)\n",
    "score_array = np.vstack(score_list_full[:, 1])"
   ]
  },
  {
   "cell_type": "code",
   "execution_count": 31,
   "metadata": {},
   "outputs": [],
   "source": [
    "score_df = pd.DataFrame(data=score_array, index=indices, columns=leaves)"
   ]
  },
  {
   "cell_type": "code",
   "execution_count": 32,
   "metadata": {},
   "outputs": [
    {
     "data": {
      "text/html": [
       "<div>\n",
       "<style scoped>\n",
       "    .dataframe tbody tr th:only-of-type {\n",
       "        vertical-align: middle;\n",
       "    }\n",
       "\n",
       "    .dataframe tbody tr th {\n",
       "        vertical-align: top;\n",
       "    }\n",
       "\n",
       "    .dataframe thead th {\n",
       "        text-align: right;\n",
       "    }\n",
       "</style>\n",
       "<table border=\"1\" class=\"dataframe\">\n",
       "  <thead>\n",
       "    <tr style=\"text-align: right;\">\n",
       "      <th></th>\n",
       "      <th>1.1.1.1. -- Sample complexity and generalization bounds</th>\n",
       "      <th>1.1.1.2. -- Boolean function learning</th>\n",
       "      <th>1.1.1.3. -- Unsupervised learning and clustering</th>\n",
       "      <th>1.1.1.4.1. -- Support vector machines</th>\n",
       "      <th>1.1.1.4.2. -- Gaussian processes</th>\n",
       "      <th>1.1.1.4.3. -- Modelling</th>\n",
       "      <th>1.1.1.5. -- Boosting</th>\n",
       "      <th>1.1.1.6. -- Bayesian analysis</th>\n",
       "      <th>1.1.1.7. -- Inductive inference</th>\n",
       "      <th>1.1.1.8. -- Online learning theory</th>\n",
       "      <th>...</th>\n",
       "      <th>5.2.4.1.3. -- Policy iteration</th>\n",
       "      <th>5.2.4.1.4. -- Temporal difference learning</th>\n",
       "      <th>5.2.4.1.5. -- Approximate dynamic programming methods</th>\n",
       "      <th>5.2.4.2.1. -- Boosting</th>\n",
       "      <th>5.2.4.2.2. -- Bagging</th>\n",
       "      <th>5.2.4.2.3. -- Fusion of classifiers</th>\n",
       "      <th>5.2.4.3.1 -- Spectral clustering</th>\n",
       "      <th>5.2.4.4. -- Feature selection</th>\n",
       "      <th>5.2.4.5.1 -- Generalized eigenvalue</th>\n",
       "      <th>5.2.5. -- Cross-validation</th>\n",
       "    </tr>\n",
       "  </thead>\n",
       "  <tbody>\n",
       "    <tr>\n",
       "      <th>190</th>\n",
       "      <td>0.394070</td>\n",
       "      <td>0.144253</td>\n",
       "      <td>0.233604</td>\n",
       "      <td>0.112744</td>\n",
       "      <td>0.147250</td>\n",
       "      <td>0.107093</td>\n",
       "      <td>0.114391</td>\n",
       "      <td>0.258695</td>\n",
       "      <td>0.200315</td>\n",
       "      <td>0.097679</td>\n",
       "      <td>...</td>\n",
       "      <td>0.185242</td>\n",
       "      <td>0.218481</td>\n",
       "      <td>0.110337</td>\n",
       "      <td>0.114391</td>\n",
       "      <td>0.104681</td>\n",
       "      <td>0.158266</td>\n",
       "      <td>0.318433</td>\n",
       "      <td>0.158014</td>\n",
       "      <td>0.256435</td>\n",
       "      <td>0.183144</td>\n",
       "    </tr>\n",
       "    <tr>\n",
       "      <th>212</th>\n",
       "      <td>0.217876</td>\n",
       "      <td>0.111534</td>\n",
       "      <td>0.453980</td>\n",
       "      <td>0.401163</td>\n",
       "      <td>0.111159</td>\n",
       "      <td>0.117699</td>\n",
       "      <td>0.173131</td>\n",
       "      <td>0.086594</td>\n",
       "      <td>0.202730</td>\n",
       "      <td>0.177784</td>\n",
       "      <td>...</td>\n",
       "      <td>0.250096</td>\n",
       "      <td>0.120496</td>\n",
       "      <td>0.126236</td>\n",
       "      <td>0.173131</td>\n",
       "      <td>0.117375</td>\n",
       "      <td>0.294314</td>\n",
       "      <td>0.308370</td>\n",
       "      <td>0.155905</td>\n",
       "      <td>0.257863</td>\n",
       "      <td>0.208885</td>\n",
       "    </tr>\n",
       "    <tr>\n",
       "      <th>26</th>\n",
       "      <td>0.122168</td>\n",
       "      <td>0.230001</td>\n",
       "      <td>0.236107</td>\n",
       "      <td>0.150027</td>\n",
       "      <td>0.131785</td>\n",
       "      <td>0.126220</td>\n",
       "      <td>0.129434</td>\n",
       "      <td>0.092483</td>\n",
       "      <td>0.147118</td>\n",
       "      <td>0.119895</td>\n",
       "      <td>...</td>\n",
       "      <td>0.168294</td>\n",
       "      <td>0.117355</td>\n",
       "      <td>0.162667</td>\n",
       "      <td>0.129434</td>\n",
       "      <td>0.099680</td>\n",
       "      <td>0.149951</td>\n",
       "      <td>0.287257</td>\n",
       "      <td>0.178085</td>\n",
       "      <td>0.161595</td>\n",
       "      <td>0.186693</td>\n",
       "    </tr>\n",
       "    <tr>\n",
       "      <th>199</th>\n",
       "      <td>0.160326</td>\n",
       "      <td>0.155990</td>\n",
       "      <td>0.214961</td>\n",
       "      <td>0.097006</td>\n",
       "      <td>0.140498</td>\n",
       "      <td>0.134812</td>\n",
       "      <td>0.112219</td>\n",
       "      <td>0.096567</td>\n",
       "      <td>0.181090</td>\n",
       "      <td>0.116904</td>\n",
       "      <td>...</td>\n",
       "      <td>0.225504</td>\n",
       "      <td>0.126078</td>\n",
       "      <td>0.113291</td>\n",
       "      <td>0.112219</td>\n",
       "      <td>0.104527</td>\n",
       "      <td>0.138200</td>\n",
       "      <td>0.347347</td>\n",
       "      <td>0.184057</td>\n",
       "      <td>0.108125</td>\n",
       "      <td>0.181704</td>\n",
       "    </tr>\n",
       "    <tr>\n",
       "      <th>105</th>\n",
       "      <td>0.148835</td>\n",
       "      <td>0.139646</td>\n",
       "      <td>0.269425</td>\n",
       "      <td>0.127816</td>\n",
       "      <td>0.149889</td>\n",
       "      <td>0.211745</td>\n",
       "      <td>0.154103</td>\n",
       "      <td>0.305693</td>\n",
       "      <td>0.204949</td>\n",
       "      <td>0.095065</td>\n",
       "      <td>...</td>\n",
       "      <td>0.194092</td>\n",
       "      <td>0.199985</td>\n",
       "      <td>0.110115</td>\n",
       "      <td>0.154103</td>\n",
       "      <td>0.073106</td>\n",
       "      <td>0.149627</td>\n",
       "      <td>0.318368</td>\n",
       "      <td>0.183593</td>\n",
       "      <td>0.170725</td>\n",
       "      <td>0.357219</td>\n",
       "    </tr>\n",
       "  </tbody>\n",
       "</table>\n",
       "<p>5 rows × 353 columns</p>\n",
       "</div>"
      ],
      "text/plain": [
       "     1.1.1.1. -- Sample complexity and generalization bounds  \\\n",
       "190  0.394070                                                  \n",
       "212  0.217876                                                  \n",
       "26   0.122168                                                  \n",
       "199  0.160326                                                  \n",
       "105  0.148835                                                  \n",
       "\n",
       "     1.1.1.2. -- Boolean function learning  \\\n",
       "190  0.144253                                \n",
       "212  0.111534                                \n",
       "26   0.230001                                \n",
       "199  0.155990                                \n",
       "105  0.139646                                \n",
       "\n",
       "     1.1.1.3. -- Unsupervised learning and clustering  \\\n",
       "190  0.233604                                           \n",
       "212  0.453980                                           \n",
       "26   0.236107                                           \n",
       "199  0.214961                                           \n",
       "105  0.269425                                           \n",
       "\n",
       "     1.1.1.4.1. -- Support vector machines  1.1.1.4.2. -- Gaussian processes  \\\n",
       "190  0.112744                               0.147250                           \n",
       "212  0.401163                               0.111159                           \n",
       "26   0.150027                               0.131785                           \n",
       "199  0.097006                               0.140498                           \n",
       "105  0.127816                               0.149889                           \n",
       "\n",
       "     1.1.1.4.3. -- Modelling  1.1.1.5. -- Boosting  \\\n",
       "190  0.107093                 0.114391               \n",
       "212  0.117699                 0.173131               \n",
       "26   0.126220                 0.129434               \n",
       "199  0.134812                 0.112219               \n",
       "105  0.211745                 0.154103               \n",
       "\n",
       "     1.1.1.6. -- Bayesian analysis  1.1.1.7. -- Inductive inference  \\\n",
       "190  0.258695                       0.200315                          \n",
       "212  0.086594                       0.202730                          \n",
       "26   0.092483                       0.147118                          \n",
       "199  0.096567                       0.181090                          \n",
       "105  0.305693                       0.204949                          \n",
       "\n",
       "     1.1.1.8. -- Online learning theory  ...  5.2.4.1.3. -- Policy iteration  \\\n",
       "190  0.097679                            ...  0.185242                         \n",
       "212  0.177784                            ...  0.250096                         \n",
       "26   0.119895                            ...  0.168294                         \n",
       "199  0.116904                            ...  0.225504                         \n",
       "105  0.095065                            ...  0.194092                         \n",
       "\n",
       "     5.2.4.1.4. -- Temporal difference learning  \\\n",
       "190  0.218481                                     \n",
       "212  0.120496                                     \n",
       "26   0.117355                                     \n",
       "199  0.126078                                     \n",
       "105  0.199985                                     \n",
       "\n",
       "     5.2.4.1.5. -- Approximate dynamic programming methods  \\\n",
       "190  0.110337                                                \n",
       "212  0.126236                                                \n",
       "26   0.162667                                                \n",
       "199  0.113291                                                \n",
       "105  0.110115                                                \n",
       "\n",
       "     5.2.4.2.1. -- Boosting  5.2.4.2.2. -- Bagging  \\\n",
       "190  0.114391                0.104681                \n",
       "212  0.173131                0.117375                \n",
       "26   0.129434                0.099680                \n",
       "199  0.112219                0.104527                \n",
       "105  0.154103                0.073106                \n",
       "\n",
       "     5.2.4.2.3. -- Fusion of classifiers  5.2.4.3.1 -- Spectral clustering  \\\n",
       "190  0.158266                             0.318433                           \n",
       "212  0.294314                             0.308370                           \n",
       "26   0.149951                             0.287257                           \n",
       "199  0.138200                             0.347347                           \n",
       "105  0.149627                             0.318368                           \n",
       "\n",
       "     5.2.4.4. -- Feature selection  5.2.4.5.1 -- Generalized eigenvalue  \\\n",
       "190  0.158014                       0.256435                              \n",
       "212  0.155905                       0.257863                              \n",
       "26   0.178085                       0.161595                              \n",
       "199  0.184057                       0.108125                              \n",
       "105  0.183593                       0.170725                              \n",
       "\n",
       "     5.2.5. -- Cross-validation  \n",
       "190  0.183144                    \n",
       "212  0.208885                    \n",
       "26   0.186693                    \n",
       "199  0.181704                    \n",
       "105  0.357219                    \n",
       "\n",
       "[5 rows x 353 columns]"
      ]
     },
     "execution_count": 32,
     "metadata": {},
     "output_type": "execute_result"
    }
   ],
   "source": [
    "score_df.head()"
   ]
  },
  {
   "cell_type": "code",
   "execution_count": 33,
   "metadata": {},
   "outputs": [
    {
     "data": {
      "text/plain": [
       "(26799, 353)"
      ]
     },
     "execution_count": 33,
     "metadata": {},
     "output_type": "execute_result"
    }
   ],
   "source": [
    "score_df.shape"
   ]
  },
  {
   "cell_type": "code",
   "execution_count": 34,
   "metadata": {},
   "outputs": [
    {
     "data": {
      "text/plain": [
       "0"
      ]
     },
     "execution_count": 34,
     "metadata": {},
     "output_type": "execute_result"
    }
   ],
   "source": [
    "score_df.isnull().sum().sum()"
   ]
  },
  {
   "cell_type": "code",
   "execution_count": 35,
   "metadata": {},
   "outputs": [],
   "source": [
    "score_df.to_csv('data/text_to_topic_scores.csv')"
   ]
  },
  {
   "cell_type": "markdown",
   "metadata": {},
   "source": [
    "---"
   ]
  }
 ],
 "metadata": {
  "kernelspec": {
   "display_name": "Python 3",
   "language": "python",
   "name": "python3"
  },
  "language_info": {
   "codemirror_mode": {
    "name": "ipython",
    "version": 3
   },
   "file_extension": ".py",
   "mimetype": "text/x-python",
   "name": "python",
   "nbconvert_exporter": "python",
   "pygments_lexer": "ipython3",
   "version": "3.7.3"
  },
  "toc": {
   "base_numbering": 1,
   "nav_menu": {},
   "number_sections": true,
   "sideBar": true,
   "skip_h1_title": false,
   "title_cell": "Table of Contents",
   "title_sidebar": "Contents",
   "toc_cell": false,
   "toc_position": {},
   "toc_section_display": true,
   "toc_window_display": false
  }
 },
 "nbformat": 4,
 "nbformat_minor": 2
}
