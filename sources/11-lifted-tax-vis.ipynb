{
 "cells": [
  {
   "cell_type": "code",
   "execution_count": 1,
   "metadata": {},
   "outputs": [],
   "source": [
    "%run lib.py"
   ]
  },
  {
   "cell_type": "markdown",
   "metadata": {},
   "source": [
    "---"
   ]
  },
  {
   "cell_type": "code",
   "execution_count": 2,
   "metadata": {},
   "outputs": [],
   "source": [
    "import textwrap\n",
    "from copy import deepcopy\n",
    "\n",
    "from ete3 import AttrFace, TextFace, Tree, TreeStyle, add_face_to_node, NodeStyle, RectFace, CircleFace\n",
    "\n",
    "from anytree.importer import JsonImporter\n",
    "from pipe import reverse, as_list, as_set\n",
    "\n",
    "import visual\n",
    "from taxonomy import print_tree\n"
   ]
  },
  {
   "cell_type": "code",
   "execution_count": 3,
   "metadata": {},
   "outputs": [],
   "source": [
    "with open('ds_taxonomy.json', 'r') as f:\n",
    "    tax = JsonImporter().read(f)"
   ]
  },
  {
   "cell_type": "code",
   "execution_count": 4,
   "metadata": {},
   "outputs": [],
   "source": [
    "lifting_pars_df = pd.read_excel('lifting_results.xlsx', index_col=[0,1])\n",
    "lifted_trees = joblib.load( 'data/lifted_trees.pkl')"
   ]
  },
  {
   "cell_type": "code",
   "execution_count": 53,
   "metadata": {},
   "outputs": [],
   "source": [
    "tree = reload(visual).compress_pgfs_result(lifted_trees[6], 0.2)"
   ]
  },
  {
   "cell_type": "raw",
   "metadata": {},
   "source": [
    "for i, j, k in anytree.RenderTree(tree):\n",
    "    if k.depth < 7:\n",
    "        print(i, k.name, f'{k.u:.2f}')"
   ]
  },
  {
   "cell_type": "code",
   "execution_count": 54,
   "metadata": {},
   "outputs": [],
   "source": [
    "newick_tax = reload(visual).pgfs_result_to_newick(tree)\n",
    "\n",
    "t = Tree(newick_tax, format=1, quoted_node_names=False)\n",
    "\n",
    "t.show(tree_style=reload(visual).get_tree_style())"
   ]
  },
  {
   "cell_type": "raw",
   "metadata": {},
   "source": [
    "t = Tree(newick_tax, format=1, quoted_node_names=False)\n",
    "\n",
    "t.show(tree_style=reload(visual).get_tree_style())\n",
    "# t.render('images/tree_1.pdf', tree_style=reload(visual).get_tree_style());"
   ]
  },
  {
   "cell_type": "markdown",
   "metadata": {},
   "source": [
    "---\n",
    "Batch"
   ]
  },
  {
   "cell_type": "code",
   "execution_count": 60,
   "metadata": {},
   "outputs": [],
   "source": [
    "def get_head_subjects(root):\n",
    "    heads_and_offshoots = root.H\n",
    "    offshoots = set()\n",
    "    for n in heads_and_offshoots:\n",
    "        node = anytree.find(root, filter_=lambda x: x.name == n)\n",
    "        if node and node.is_leaf:\n",
    "            offshoots.add(n)\n",
    "    head_subjects = heads_and_offshoots - offshoots\n",
    "    return head_subjects"
   ]
  },
  {
   "cell_type": "code",
   "execution_count": 61,
   "metadata": {},
   "outputs": [],
   "source": [
    "reload(visual)\n",
    "\n",
    "U_THRESH = 0.2\n",
    "    \n",
    "for i, lift_result in enumerate(lifted_trees):\n",
    "    \n",
    "    tree = visual.compress_pgfs_result(lift_result, U_THRESH)\n",
    "    newick_tree = visual.pgfs_result_to_newick(tree)\n",
    "    \n",
    "    t = Tree(newick_tree, format=1, quoted_node_names=False)\n",
    "    \n",
    "    if len(get_head_subjects(tree)) == 0:\n",
    "        fname = f'images/cluster_lift_tree_{i:02d}_no_heads.pdf'\n",
    "    else:\n",
    "        fname = f'images/cluster_lift_tree_{i:02d}.pdf'\n",
    "    \n",
    "    t.render(fname, tree_style=visual.get_tree_style())"
   ]
  },
  {
   "cell_type": "markdown",
   "metadata": {},
   "source": [
    "---"
   ]
  }
 ],
 "metadata": {
  "kernelspec": {
   "display_name": "Python 3",
   "language": "python",
   "name": "python3"
  },
  "language_info": {
   "codemirror_mode": {
    "name": "ipython",
    "version": 3
   },
   "file_extension": ".py",
   "mimetype": "text/x-python",
   "name": "python",
   "nbconvert_exporter": "python",
   "pygments_lexer": "ipython3",
   "version": "3.6.7"
  },
  "toc": {
   "base_numbering": 1,
   "nav_menu": {},
   "number_sections": true,
   "sideBar": true,
   "skip_h1_title": false,
   "title_cell": "Table of Contents",
   "title_sidebar": "Contents",
   "toc_cell": false,
   "toc_position": {},
   "toc_section_display": true,
   "toc_window_display": false
  }
 },
 "nbformat": 4,
 "nbformat_minor": 2
}
